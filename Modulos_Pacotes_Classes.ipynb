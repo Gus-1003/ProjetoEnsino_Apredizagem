{
  "nbformat": 4,
  "nbformat_minor": 0,
  "metadata": {
    "colab": {
      "name": "Modulos_Pacotes_Classes.ipynb",
      "provenance": [],
      "toc_visible": true,
      "authorship_tag": "ABX9TyNTRew9ngIyhdtV2wKvyaQq",
      "include_colab_link": true
    },
    "kernelspec": {
      "name": "python3",
      "display_name": "Python 3"
    },
    "language_info": {
      "name": "python"
    }
  },
  "cells": [
    {
      "cell_type": "markdown",
      "metadata": {
        "id": "view-in-github",
        "colab_type": "text"
      },
      "source": [
        "<a href=\"https://colab.research.google.com/github/Gus-1003/Python_Experimentos/blob/main/Modulos_Pacotes_Classes.ipynb\" target=\"_parent\"><img src=\"https://colab.research.google.com/assets/colab-badge.svg\" alt=\"Open In Colab\"/></a>"
      ]
    },
    {
      "cell_type": "markdown",
      "source": [
        "# Fontes Bibliograficas:\n",
        "\n",
        "*   Fonte_base: http://devfuria.com.br/python/modulos-pacotes/\n",
        "*   Documentação do Python: https://docs.python.org/pt-br/3/tutorial/modules.html#\n",
        "*   Aula 6 - Prof. Laura Emmanuella: https://github.com/lauraemmanuella/IntroducaoPython/blob/main/6_Modulos_e_Pacotes.ipynb\n",
        "*   Aula 7 - Prof. Laura Emmanuella: https://github.com/lauraemmanuella/IntroducaoPython/blob/main/7_Criando_classes.ipynb\n",
        "\n"
      ],
      "metadata": {
        "id": "7s_VSvpUR7nR"
      }
    },
    {
      "cell_type": "markdown",
      "source": [
        "# Módulos e Pacotes"
      ],
      "metadata": {
        "id": "zpRT_1k6H4h2"
      }
    },
    {
      "cell_type": "markdown",
      "source": [
        "## Conceitos: \n",
        "\n",
        "*  **script / Modulo:** Arquivo executavel que é desenvolvido por meio de um editor de texto para agrupar conjuntos de variaveis e funções. O nome do arquivo é o nome do módulo acrescido do sufixo .py.\n",
        "  *   Os módulos são importados para outros módulos usando o comando **\"import\".**\n",
        "\n",
        "\n",
        "  *   A primeira vez que um módulo é carregado em um script Python em execução, ele é inicializado executando o código no módulo uma vez. Se outro módulo no seu código importar o mesmo módulo novamente, ele não será carregado duas vezes, mas uma vez somente - então as variáveis locais dentro do módulo atuam como \"singleton\" - elas são inicializadas apenas uma vez.\n",
        "\n",
        "\n",
        "*  **Pacote**: Espaço de nome que contêm vários pacotes e módulos próprios. Eles são simplesmente diretórios, mas com um extra. Cada pacote no Python é um diretório que DEVE conter um arquivo especial chamado __ init __ . py. Este arquivo pode estar vazio e indica que o diretório que ele contém é um pacote Python, portanto pode ser importado da mesma maneira que um módulo pode ser importado.\n",
        "\n",
        "*  \n",
        "\n"
      ],
      "metadata": {
        "id": "c6s4KcmkKkvH"
      }
    },
    {
      "cell_type": "code",
      "execution_count": 1,
      "metadata": {
        "colab": {
          "base_uri": "https://localhost:8080/"
        },
        "id": "g6oS7AkdHvPs",
        "outputId": "04c2402b-4b39-4734-c4b6-32a46c340aa4"
      },
      "outputs": [
        {
          "output_type": "execute_result",
          "data": {
            "text/plain": [
              "8.0"
            ]
          },
          "metadata": {},
          "execution_count": 1
        }
      ],
      "source": [
        "# Importa a biblioteca\n",
        "import math\n",
        "\n",
        "math.pow(2,3)"
      ]
    },
    {
      "cell_type": "code",
      "source": [
        "#importa uma unica funcao de um modulo\n",
        "from random import randint \n",
        "print(randint(0, 100))"
      ],
      "metadata": {
        "colab": {
          "base_uri": "https://localhost:8080/"
        },
        "id": "k87iVDVIMn5g",
        "outputId": "de411082-f3b3-41c1-c700-512f709f9dfc"
      },
      "execution_count": 2,
      "outputs": [
        {
          "output_type": "stream",
          "name": "stdout",
          "text": [
            "63\n"
          ]
        }
      ]
    },
    {
      "cell_type": "markdown",
      "source": [
        "# **Classes:**"
      ],
      "metadata": {
        "id": "K-RJ-ksNMuxX"
      }
    },
    {
      "cell_type": "markdown",
      "source": [
        "## Conceito:\n",
        "\n",
        "*   Para definir uma classe: **class**\n",
        "*   **Classes** proporcionam uma forma de organizar dados e funcionalidades juntos. \n",
        "*   Criar uma nova classe cria um novo “tipo” de objeto, permitindo que novas “instâncias” desse tipo sejam produzidas. Cada instância da classe pode ter atributos anexados a ela, para manter seu estado;\n",
        "*   Instâncias da classe também podem ter métodos (definidos pela classe) para modificar seu estado.\n",
        "\n",
        "\n",
        "---\n",
        "\n",
        "\n",
        "*   Observe que os métodos terão como primeiro parâmetro o identificador **self**. O identificador **self** também vai aparecer antes dos atributos da classe \n",
        "  *   Esse identificador serve para diferenciar um método de uma função, bem como um atributo de uma variável, pois ele faz referência para o objeto da classe que está usando o atributo ou método\n",
        "\n",
        "\n",
        "\n",
        "\n",
        "\n"
      ],
      "metadata": {
        "id": "3os2i9wjNe2v"
      }
    },
    {
      "cell_type": "code",
      "source": [
        ""
      ],
      "metadata": {
        "id": "o10GH8yFVHOj"
      },
      "execution_count": null,
      "outputs": []
    }
  ]
}