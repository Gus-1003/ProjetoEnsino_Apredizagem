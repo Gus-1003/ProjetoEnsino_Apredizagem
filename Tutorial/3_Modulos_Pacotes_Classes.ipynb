{
  "nbformat": 4,
  "nbformat_minor": 0,
  "metadata": {
    "colab": {
      "name": "Modulos_Pacotes_Classes.ipynb",
      "provenance": [],
      "toc_visible": true,
      "include_colab_link": true
    },
    "kernelspec": {
      "name": "python3",
      "display_name": "Python 3"
    },
    "language_info": {
      "name": "python"
    }
  },
  "cells": [
    {
      "cell_type": "markdown",
      "metadata": {
        "id": "view-in-github",
        "colab_type": "text"
      },
      "source": [
        "<a href=\"https://colab.research.google.com/github/Gus-1003/Python_Experimentos/blob/main/Tutorial/3_Modulos_Pacotes_Classes.ipynb\" target=\"_parent\"><img src=\"https://colab.research.google.com/assets/colab-badge.svg\" alt=\"Open In Colab\"/></a>"
      ]
    },
    {
      "cell_type": "markdown",
      "source": [
        "# Fontes Bibliograficas:\n",
        "\n",
        "*   Fonte_base: http://devfuria.com.br/python/modulos-pacotes/\n",
        "*   Documentação do Python: https://docs.python.org/pt-br/3/tutorial/modules.html#\n",
        "*   Aula 6 - Prof. Laura Emmanuella: https://github.com/lauraemmanuella/IntroducaoPython/blob/main/6_Modulos_e_Pacotes.ipynb\n",
        "*   Aula 7 - Prof. Laura Emmanuella: https://github.com/lauraemmanuella/IntroducaoPython/blob/main/7_Criando_classes.ipynb\n",
        "\n"
      ],
      "metadata": {
        "id": "7s_VSvpUR7nR"
      }
    },
    {
      "cell_type": "markdown",
      "source": [
        "# Módulos e Pacotes"
      ],
      "metadata": {
        "id": "zpRT_1k6H4h2"
      }
    },
    {
      "cell_type": "markdown",
      "source": [
        "## Conceitos: \n",
        "\n",
        "*  **script / Modulo:** Arquivo executavel que é desenvolvido por meio de um editor de texto para agrupar conjuntos de variaveis e funções. O nome do arquivo é o nome do módulo acrescido do sufixo .py.\n",
        "  *   Os módulos são importados para outros módulos usando o comando **\"import\".**\n",
        "\n",
        "\n",
        "  *   A primeira vez que um módulo é carregado em um script Python em execução, ele é inicializado executando o código no módulo uma vez. Se outro módulo no seu código importar o mesmo módulo novamente, ele não será carregado duas vezes, mas uma vez somente - então as variáveis locais dentro do módulo atuam como \"singleton\" - elas são inicializadas apenas uma vez.\n",
        "\n",
        "\n",
        "*  **Pacote**: Espaço de nome que contêm vários pacotes e módulos próprios. Eles são simplesmente diretórios, mas com um extra. Cada pacote no Python é um diretório que DEVE conter um arquivo especial chamado __ init __ . py. Este arquivo pode estar vazio e indica que o diretório que ele contém é um pacote Python, portanto pode ser importado da mesma maneira que um módulo pode ser importado.\n",
        "\n"
      ],
      "metadata": {
        "id": "c6s4KcmkKkvH"
      }
    },
    {
      "cell_type": "code",
      "execution_count": null,
      "metadata": {
        "colab": {
          "base_uri": "https://localhost:8080/"
        },
        "id": "g6oS7AkdHvPs",
        "outputId": "6a1d4b54-e95c-450c-8b13-e9c20a9d0b2b"
      },
      "outputs": [
        {
          "output_type": "execute_result",
          "data": {
            "text/plain": [
              "16.0"
            ]
          },
          "metadata": {},
          "execution_count": 4
        }
      ],
      "source": [
        "# Importa a biblioteca = https://docs.python.org/3/library/math.html#math.sqrt\n",
        "import math\n",
        "\n",
        "math.pow(2,4) # Método pow = potencia (Base , expoente)"
      ]
    },
    {
      "cell_type": "code",
      "source": [
        "math.sqrt(16) # Método sqrt = raiz do número"
      ],
      "metadata": {
        "id": "HaCYAiU46-w3",
        "outputId": "08f3eadc-aad0-4bd0-d78e-c832c3cd8a2d",
        "colab": {
          "base_uri": "https://localhost:8080/"
        }
      },
      "execution_count": null,
      "outputs": [
        {
          "output_type": "execute_result",
          "data": {
            "text/plain": [
              "4.0"
            ]
          },
          "metadata": {},
          "execution_count": 5
        }
      ]
    },
    {
      "cell_type": "code",
      "source": [
        "math.log10(100) # Método log(base) = raiz do número x naquela base"
      ],
      "metadata": {
        "id": "NbZak-Zj7GzP",
        "outputId": "5bafc34c-133f-4483-9dab-a35c012ab452",
        "colab": {
          "base_uri": "https://localhost:8080/"
        }
      },
      "execution_count": null,
      "outputs": [
        {
          "output_type": "execute_result",
          "data": {
            "text/plain": [
              "2.0"
            ]
          },
          "metadata": {},
          "execution_count": 8
        }
      ]
    },
    {
      "cell_type": "code",
      "source": [
        "#importa uma unica funcao de um modulo\n",
        "from random import randint \n",
        "\n",
        "print(randint(0, 100))"
      ],
      "metadata": {
        "colab": {
          "base_uri": "https://localhost:8080/"
        },
        "id": "k87iVDVIMn5g",
        "outputId": "9a0cfb35-ff89-4f5f-d1d0-d432059224d3"
      },
      "execution_count": null,
      "outputs": [
        {
          "output_type": "stream",
          "name": "stdout",
          "text": [
            "48\n"
          ]
        }
      ]
    },
    {
      "cell_type": "markdown",
      "source": [
        "# **Classes:**"
      ],
      "metadata": {
        "id": "K-RJ-ksNMuxX"
      }
    },
    {
      "cell_type": "markdown",
      "source": [
        "## Conceito:\n",
        "\n",
        "*   Para definir uma classe: **class**\n",
        "*   **Classes** proporcionam uma forma de organizar dados e funcionalidades juntos. \n",
        "*   Criar uma nova classe cria um novo “tipo” de objeto, permitindo que novas “instâncias” desse tipo sejam produzidas. Cada instância da classe pode ter atributos anexados a ela, para manter seu estado;\n",
        "*   Instâncias da classe também podem ter métodos (definidos pela classe) para modificar seu estado.\n",
        "\n",
        "\n",
        "---\n",
        "\n",
        "\n",
        "*   Observe que os métodos terão como primeiro parâmetro o identificador **self**. O identificador **self** também vai aparecer antes dos atributos da classe \n",
        "  *   Esse identificador serve para diferenciar um método de uma função, bem como um atributo de uma variável, pois ele faz referência para o objeto da classe que está usando o atributo ou método\n",
        "\n",
        "\n",
        "\n",
        "\n",
        "\n"
      ],
      "metadata": {
        "id": "3os2i9wjNe2v"
      }
    },
    {
      "cell_type": "markdown",
      "source": [
        "## Exemplo: Jogador"
      ],
      "metadata": {
        "id": "Bn3fA24Q4Mh3"
      }
    },
    {
      "cell_type": "code",
      "source": [
        "class Jogador: #comando para definir uma nova classe\n",
        "  '''Classe Jogador possui nome e valor da aposta (entre 2 e 12)'''\n",
        "\n",
        "  i = 1 #variavel de classe (ela tem seu valor compartilhado por todos os objetos dessa classe, por isso não tem o identificador self)\n",
        "\n",
        "  #Método inicializador dos objetos da classe Jogador (chamado quando criamos um objeto)\n",
        "  def __init__(self, a, n = None):\n",
        "\n",
        "    self.aposta = a; # Valor da opsta passa por parametro\n",
        "\n",
        "    if n is None: # caso o jogador não possua um nome definido\n",
        "      self.nome = 'JOGADOR ' + str(Jogador.i) \n",
        "      Jogador.i += 1 #aumenta em 1 unidade\n",
        "\n",
        "    else:\n",
        "      self.nome = n \n",
        "\n",
        "  #métodos que servirão para informar nome e aposta do jogador\n",
        "  def definirnome(self):\n",
        "    self.nome = input('Informe o nome do Jogador: ') # Forma como é capturado o nome\n",
        "\n",
        "  def definiraposta(self):\n",
        "    self.aposta = input('Informe a aposta do Jogador entre 2 e 12: ')\n",
        "\n",
        "  #métodos que servirão para retornar nome e aposta do jogador\n",
        "  def getnome(self):\n",
        "    return self.nome\n",
        "\n",
        "  def getaposta(self):\n",
        "    return self.aposta\n",
        "  \n",
        "  #Método especial usado quando mandamos imprimir o objeto - print\n",
        "  def __str__(self):\n",
        "    return 'Jogador: ' + self.nome + ' Aposta: ' + str(self.aposta)\n",
        "\n",
        "  #Método especial usado quando queremos comparar dois objetos dessa classe\n",
        "  def __eq__(self, outroJogador):\n",
        "    if self.nome == outroJogador.nome:\n",
        "      return True\n",
        "    return False"
      ],
      "metadata": {
        "id": "o10GH8yFVHOj"
      },
      "execution_count": null,
      "outputs": []
    },
    {
      "cell_type": "code",
      "source": [
        "#Criação de objetos da classe Jogador\n",
        "jogador1 = Jogador(10, 'Gustavo')\n",
        "jogador2 = Jogador(7)\n",
        "jogador3 = Jogador(2)\n",
        "jogador4 = Jogador(8)\n",
        "\n",
        "print(jogador1)\n",
        "print(jogador2)\n",
        "print(jogador3)\n",
        "print(jogador4)"
      ],
      "metadata": {
        "id": "zvXyeGRb8vZf",
        "outputId": "a63b4d6b-61d4-492d-b917-0b3d0761d3cd",
        "colab": {
          "base_uri": "https://localhost:8080/"
        }
      },
      "execution_count": null,
      "outputs": [
        {
          "output_type": "stream",
          "name": "stdout",
          "text": [
            "Jogador: Gustavo Aposta: 10\n",
            "Jogador: JOGADOR 1 Aposta: 7\n",
            "Jogador: JOGADOR 2 Aposta: 2\n",
            "Jogador: JOGADOR 3 Aposta: 8\n"
          ]
        }
      ]
    },
    {
      "cell_type": "code",
      "source": [
        "jogador5 = Jogador(10, 'Gustavo')\n",
        "print(jogador5)"
      ],
      "metadata": {
        "id": "jGVzFKDN9CYW",
        "outputId": "e8b37835-d227-4f62-e1c7-46168999e37e",
        "colab": {
          "base_uri": "https://localhost:8080/"
        }
      },
      "execution_count": null,
      "outputs": [
        {
          "output_type": "stream",
          "name": "stdout",
          "text": [
            "Jogador: Gustavo Aposta: 10\n"
          ]
        }
      ]
    },
    {
      "cell_type": "code",
      "source": [
        "print(jogador1 is jogador5) #compara as referências"
      ],
      "metadata": {
        "id": "5FaXeN2E9Psf",
        "outputId": "55d1a892-7006-48c8-84da-a8f540455ca8",
        "colab": {
          "base_uri": "https://localhost:8080/"
        }
      },
      "execution_count": null,
      "outputs": [
        {
          "output_type": "stream",
          "name": "stdout",
          "text": [
            "False\n"
          ]
        }
      ]
    },
    {
      "cell_type": "code",
      "source": [
        "print(jogador1 == jogador5) #chama método __eq__ = Analisa se os jogadores possuem o mesmo nome"
      ],
      "metadata": {
        "id": "eFHWGXCP9Rlv",
        "outputId": "cd08fff0-b1b1-46f3-b459-a54558e85868",
        "colab": {
          "base_uri": "https://localhost:8080/"
        }
      },
      "execution_count": null,
      "outputs": [
        {
          "output_type": "stream",
          "name": "stdout",
          "text": [
            "False\n"
          ]
        }
      ]
    },
    {
      "cell_type": "markdown",
      "source": [
        "## Exemplo: Dado"
      ],
      "metadata": {
        "id": "W7yl5b3K-C4n"
      }
    },
    {
      "cell_type": "code",
      "source": [
        "import random #usaremos esse modulo para chamar o metodo randint\n",
        "\n",
        "class Dado:\n",
        "  '''Classe representa um dado com 6 faces representando os números inteiros \n",
        "  de 1 a 6 \n",
        "  Esse dado é capaz de ser girado, resultando em um valor para sua face'''\n",
        "\n",
        "  def __init__(self):\n",
        "    '''cria um novo dado que ainda não foi lançado'''\n",
        "    self.face = None \n",
        "\n",
        "  def girar(self):\n",
        "    '''gira o dado para gerar um numero entre 1 e 6 que será o valor da face \n",
        "    que ficou para cima'''\n",
        "    self.face = random.randint(1,6)\n",
        "  \n",
        "  def getFace(self):\n",
        "    return self.face\n",
        "  \n",
        "  def __str__(self):\n",
        "    return 'Face deste dado: ' + str(self.face)"
      ],
      "metadata": {
        "id": "EtEAVl6o-KMX"
      },
      "execution_count": null,
      "outputs": []
    },
    {
      "cell_type": "code",
      "source": [
        "dado1 = Dado() # Instancia um novo dado;\n",
        "dado2 = Dado() # Instancia um novo dado;\n",
        "\n",
        "dado1.girar() # Chama o método girar que ira trazer um número aleatorio de 1 á 6\n",
        "dado2.girar() # Chama o método girar que ira trazer um número aleatorio de 1 á 6"
      ],
      "metadata": {
        "id": "MO4H39xo-RVn"
      },
      "execution_count": null,
      "outputs": []
    },
    {
      "cell_type": "code",
      "source": [
        "print(dado1)"
      ],
      "metadata": {
        "id": "tLOqBS9T-WkC",
        "outputId": "4e5d7cb5-dc18-4819-faf4-60d0bc93dbcf",
        "colab": {
          "base_uri": "https://localhost:8080/"
        }
      },
      "execution_count": null,
      "outputs": [
        {
          "output_type": "stream",
          "name": "stdout",
          "text": [
            "Face deste dado: 5\n"
          ]
        }
      ]
    },
    {
      "cell_type": "code",
      "source": [
        "print(dado2)"
      ],
      "metadata": {
        "id": "09lJgM6r-ZTi",
        "outputId": "99aedded-6567-442e-e83f-d9efc7d63ed1",
        "colab": {
          "base_uri": "https://localhost:8080/"
        }
      },
      "execution_count": null,
      "outputs": [
        {
          "output_type": "stream",
          "name": "stdout",
          "text": [
            "Face deste dado: 2\n"
          ]
        }
      ]
    },
    {
      "cell_type": "markdown",
      "source": [
        "## Exemplo: Jogo"
      ],
      "metadata": {
        "id": "srj6VOET-ucQ"
      }
    },
    {
      "cell_type": "code",
      "source": [
        "class Jogo:\n",
        "\n",
        "  def __init__(self, j):\n",
        "    self.dado1 = Dado() #composição\n",
        "    self.dado2 = Dado() #composição\n",
        "    self.jogadores = j #agregação\n",
        "\n",
        "    print('\\n\\nJogadores preparados\\n')\n",
        "\n",
        "    for i in jogadores:\n",
        "      print(i)\n",
        "  \n",
        "  def lancardados(self):\n",
        "    print('\\n\\nGirando dados')\n",
        "\n",
        "    self.dado1.girar()\n",
        "    print(self.dado1)\n",
        "\n",
        "    self.dado2.girar()\n",
        "    print(self.dado2)\n",
        "\n",
        "  def definirvencedor(self):\n",
        "\n",
        "    resultado = self.dado1.getFace() + self.dado2.getFace()\n",
        "\n",
        "    print('\\n\\nResultado: ' + str(resultado))\n",
        "\n",
        "    for i in self.jogadores:\n",
        "      if int(i.getaposta()) == resultado:\n",
        "        print(i.getnome() + ' Venceu!')\n",
        "        break;\n",
        "\n",
        "    else:\n",
        "      print('Computador venceu!')"
      ],
      "metadata": {
        "id": "EPCPtNpV-yN3"
      },
      "execution_count": null,
      "outputs": []
    },
    {
      "cell_type": "markdown",
      "source": [
        "## Aplicação do projeto: Jogo de Dados"
      ],
      "metadata": {
        "id": "De7v3d00BLSg"
      }
    },
    {
      "cell_type": "code",
      "source": [
        "print('\\nJOGO DE DADOS\\n')\n",
        "qtdJogadores = int(input('Quantos jogadores vão participar? '))\n",
        "jogadores = []\n",
        "for i in range(qtdJogadores):\n",
        "  n = input('\\nInforme o nome do Jogador' + str(i+1) + ': ')\n",
        "  a = input('Informe a aposta do Jogador' + str(i+1) + ' entre 2 e 12: ')\n",
        "  jogadores.append(Jogador(a, n))\n",
        "\n",
        "meuJogo = Jogo(jogadores)"
      ],
      "metadata": {
        "id": "FWqWdY6O_DvX",
        "outputId": "4563c834-476c-4551-af9a-3239a02fab2c",
        "colab": {
          "base_uri": "https://localhost:8080/"
        }
      },
      "execution_count": null,
      "outputs": [
        {
          "output_type": "stream",
          "name": "stdout",
          "text": [
            "\n",
            "JOGO DE DADOS\n",
            "\n",
            "Quantos jogadores vão participar? 2\n",
            "\n",
            "Informe o nome do Jogador1: Gustavo\n",
            "Informe a aposta do Jogador1 entre 2 e 12: 10\n",
            "\n",
            "Informe o nome do Jogador2: Miguel\n",
            "Informe a aposta do Jogador2 entre 2 e 12: 7\n",
            "\n",
            "\n",
            "Jogadores preparados\n",
            "\n",
            "Jogador: Gustavo Aposta: 10\n",
            "Jogador: Miguel Aposta: 7\n"
          ]
        }
      ]
    },
    {
      "cell_type": "code",
      "source": [
        "meuJogo.lancardados()\n",
        "meuJogo.definirvencedor()"
      ],
      "metadata": {
        "id": "M41aAyXm_T4Y",
        "outputId": "3f645bf3-4c41-41b4-f695-896bbab73c17",
        "colab": {
          "base_uri": "https://localhost:8080/"
        }
      },
      "execution_count": null,
      "outputs": [
        {
          "output_type": "stream",
          "name": "stdout",
          "text": [
            "\n",
            "\n",
            "Girando dados\n",
            "Face deste dado: 5\n",
            "Face deste dado: 5\n",
            "\n",
            "\n",
            "Resultado: 10\n",
            "Gustavo Venceu!\n"
          ]
        }
      ]
    }
  ]
}