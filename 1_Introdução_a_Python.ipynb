{
  "nbformat": 4,
  "nbformat_minor": 0,
  "metadata": {
    "colab": {
      "name": "Básico_Python.ipynb",
      "provenance": [],
      "collapsed_sections": [
        "8VBfP3qtWsv2",
        "u57d6JCDZMCf",
        "MjH9NwrQkPN5"
      ],
      "toc_visible": true,
      "authorship_tag": "ABX9TyPr6KEWKM7ZAyUwEe+DBsTT",
      "include_colab_link": true
    },
    "kernelspec": {
      "name": "python3",
      "display_name": "Python 3"
    },
    "language_info": {
      "name": "python"
    }
  },
  "cells": [
    {
      "cell_type": "markdown",
      "metadata": {
        "id": "view-in-github",
        "colab_type": "text"
      },
      "source": [
        "<a href=\"https://colab.research.google.com/github/Gus-1003/Python_Experimentos/blob/main/1_Introdu%C3%A7%C3%A3o_a_Python.ipynb\" target=\"_parent\"><img src=\"https://colab.research.google.com/assets/colab-badge.svg\" alt=\"Open In Colab\"/></a>"
      ]
    },
    {
      "cell_type": "markdown",
      "source": [
        "# Introdução a Python:"
      ],
      "metadata": {
        "id": "Uoo5PayQQnx9"
      }
    },
    {
      "cell_type": "markdown",
      "source": [
        "**Autor do código:** Gustavo Maciel\n",
        "\n",
        "**Curso:** Análise e Desenvolvimento de Sistemas \n",
        "\n",
        "**Instituição:** EAJ - UFRN\n",
        "\n",
        "Toda a didática utilizada nesse arquivo foi desenvolvida pela professora Laura Emmanuella.\n",
        "\n",
        "Professora das disciplinas de Inteligência Computacional e Aprendizagem de Maquina da Escola Agricola de Jundiai - UFRN.\n",
        "\n",
        "Código Fonte dessa aula: https://github.com/lauraemmanuella/IntroducaoPython/blob/main/1_TiposDeDados.ipynb\n",
        "\n",
        "OBS.: Uma professora incrível."
      ],
      "metadata": {
        "id": "UwEywlBXpLfC"
      }
    },
    {
      "cell_type": "markdown",
      "source": [
        "## Caracteristicas:\n",
        "*   Linguagem de programação interpretada e orientada a objetos\n",
        "*   Documentações:\n",
        "\n",
        "\n",
        "---\n",
        "\n",
        "\n",
        "> Documentação oficial: https://docs.python.org/3/library/\n",
        "\n",
        "\n",
        "---\n",
        "\n",
        "\n",
        "> Tutorial Python: https://docs.python.org/3.7/tutorial/index.html\n",
        "\n",
        "\n",
        "---\n",
        "\n",
        "\n",
        "> Estrutura de dados: https://docs.python.org/3.7/tutorial/datastructures.html"
      ],
      "metadata": {
        "id": "BVVbFLGbQt2b"
      }
    },
    {
      "cell_type": "markdown",
      "source": [
        "## Cuidado:\n",
        "*  Letras maiúsculas e minúsculas são diferentes\n",
        "*  Aspas e parênteses são importantes (sempre que abrir, feche)\n",
        "*  A identação do código serve para marcar o começo e fim das estruturas\n",
        "\n"
      ],
      "metadata": {
        "id": "6x-UktlWRXad"
      }
    },
    {
      "cell_type": "markdown",
      "source": [
        "# Comentarios e saida de texto:"
      ],
      "metadata": {
        "id": "6AKGc1G3RpSs"
      }
    },
    {
      "cell_type": "code",
      "execution_count": null,
      "metadata": {
        "id": "utEmHR_8OgGL",
        "colab": {
          "base_uri": "https://localhost:8080/"
        },
        "outputId": "a77107cd-5b69-4195-9e60-ee2832720fa1"
      },
      "outputs": [
        {
          "output_type": "stream",
          "name": "stdout",
          "text": [
            "Esse é o comando para saída de texto em tela\n",
            "conteúdo 'X' \n"
          ]
        }
      ],
      "source": [
        "# isto eh um comentario de uma linha\n",
        "\n",
        "'''\n",
        "Isto eh um comentario de \n",
        "multiplas linhas\n",
        "'''\n",
        "\n",
        "print('Esse é o comando para saída de texto em tela')\n",
        "print(\"conteúdo 'X' \")"
      ]
    },
    {
      "cell_type": "markdown",
      "metadata": {
        "id": "xiESx0xJ9wVq"
      },
      "source": [
        "Em geral, usamos aspas simples para marcar o conteúdo textual, mas pode usar aspas duplas também\n",
        "\n",
        "Se no conteúdo do texto precisar de aspas, use aspas simples internamente, e aspas duplas para a marcação "
      ]
    },
    {
      "cell_type": "markdown",
      "source": [
        "# Dados Númericos:"
      ],
      "metadata": {
        "id": "9One9qTbSPuM"
      }
    },
    {
      "cell_type": "markdown",
      "source": [
        "## Tipos de Váriaveis númericas:"
      ],
      "metadata": {
        "id": "qhNMBXVjT7C8"
      }
    },
    {
      "cell_type": "code",
      "source": [
        "a = 2 #Conjunto dos Inteiros\n",
        "b = 3.5 #Conjunto dos Reais"
      ],
      "metadata": {
        "id": "xhd4UaUeSubV"
      },
      "execution_count": null,
      "outputs": []
    },
    {
      "cell_type": "code",
      "source": [
        "type(a)"
      ],
      "metadata": {
        "colab": {
          "base_uri": "https://localhost:8080/"
        },
        "id": "3jhe9ujqT-_M",
        "outputId": "5e3ccc56-e4ca-4bff-9379-7901950fe8fb"
      },
      "execution_count": null,
      "outputs": [
        {
          "output_type": "execute_result",
          "data": {
            "text/plain": [
              "int"
            ]
          },
          "metadata": {},
          "execution_count": 3
        }
      ]
    },
    {
      "cell_type": "code",
      "source": [
        "type(b)"
      ],
      "metadata": {
        "colab": {
          "base_uri": "https://localhost:8080/"
        },
        "id": "bZbS8WbBUCO8",
        "outputId": "83afc975-9d28-489f-dcbc-0fc481092bb5"
      },
      "execution_count": null,
      "outputs": [
        {
          "output_type": "execute_result",
          "data": {
            "text/plain": [
              "float"
            ]
          },
          "metadata": {},
          "execution_count": 4
        }
      ]
    },
    {
      "cell_type": "markdown",
      "source": [
        "## Operações Aritméticas:"
      ],
      "metadata": {
        "id": "VPuq7qFUTnqj"
      }
    },
    {
      "cell_type": "code",
      "source": [
        "# Soma:\n",
        "c = a + b\n",
        "print(f'resultado da soma: {c}')\n",
        "\n",
        "# Subtração:\n",
        "d = b - a\n",
        "print(f'resultado da Subtração: {d}')\n",
        "\n",
        "# Multiplicação:\n",
        "e = b * a\n",
        "print(f'resultado da Multiplicação: {e}')\n",
        "\n",
        "# Divisão:\n",
        "f = b / a\n",
        "print(f'resultado da Divisão: {f}')\n",
        "\n",
        "#parte inteira da divisao\n",
        "ab = 8\n",
        "i =  ab // 2 \n",
        "print(f'parte inteira da divisao: {i}')\n",
        "\n",
        "# Resto:\n",
        "g = b % a\n",
        "print(f'Resto da divisao: {g}')\n",
        "\n",
        "# Potenciação:\n",
        "h = b ** a\n",
        "print(f'resultado da Potenciação: {h}')"
      ],
      "metadata": {
        "colab": {
          "base_uri": "https://localhost:8080/"
        },
        "id": "_pXb5zM_TlHM",
        "outputId": "4debbbb0-6de0-4ba7-9e77-8e8fde233e55"
      },
      "execution_count": null,
      "outputs": [
        {
          "output_type": "stream",
          "name": "stdout",
          "text": [
            "resultado da soma: 5.5\n",
            "resultado da Subtração: 1.5\n",
            "resultado da Multiplicação: 7.0\n",
            "resultado da Divisão: 1.75\n",
            "parte inteira da divisao: 4\n",
            "Resto da divisao: 1.5\n",
            "resultado da Potenciação: 12.25\n"
          ]
        }
      ]
    },
    {
      "cell_type": "markdown",
      "source": [
        "## Funções Estatisticas básicas:"
      ],
      "metadata": {
        "id": "oYJmkieIWW39"
      }
    },
    {
      "cell_type": "code",
      "source": [
        "#arredondamento\n",
        "round(9.55789)\n",
        "\n",
        "#informa a quantidade de casas decimais\n",
        "round(9.55789, 2) "
      ],
      "metadata": {
        "id": "mxJEgO55WUyt",
        "colab": {
          "base_uri": "https://localhost:8080/"
        },
        "outputId": "e84bf2b2-5b5b-4a8e-9786-52c96b437a26"
      },
      "execution_count": null,
      "outputs": [
        {
          "output_type": "execute_result",
          "data": {
            "text/plain": [
              "9.56"
            ]
          },
          "metadata": {},
          "execution_count": 6
        }
      ]
    },
    {
      "cell_type": "markdown",
      "source": [
        "## Comparações:"
      ],
      "metadata": {
        "id": "brteM61TsuMF"
      }
    },
    {
      "cell_type": "markdown",
      "source": [
        "Operadores de Comparação\n",
        "\n",
        "Esses operadores nos permitem comparar variáveis e produzir um valor booleano (Verdadeiro ou Falso).\n",
        "\n",
        "Tabela de operadores de comparação\n",
        "<table class=\"table table-bordered\">\n",
        "<tr>\n",
        "<th style=\"width:10%\">Operador</th><th style=\"width:45%\">Descrição</th><th>Exemplo</th>\n",
        "</tr>\n",
        "<tr>\n",
        "<td>==</td>\n",
        "<td>Se os valores de dois operandos forem iguais, a condição torna-se verdadeira.</td>\n",
        "<td> (a == b)</td>\n",
        "</tr>\n",
        "<tr>\n",
        "<td>!=</td>\n",
        "<td>Se valores de dois operandos não forem iguais, a condição torna-se verdadeira.</td>\n",
        "<td>(a != b)</td>\n",
        "</tr>\n",
        "<tr>\n",
        "<td>&gt;</td>\n",
        "<td>Se o valor do operando esquerdo for maior que o valor do operando direito, a condição torna-se verdadeira.</td>\n",
        "<td> (a &gt; b) </td>\n",
        "</tr>\n",
        "<tr>\n",
        "<td>&lt;</td>\n",
        "<td>Se o valor do operando esquerdo for inferior ao valor do operando direito, a condição torna-se verdadeira.</td>\n",
        "<td> (a &lt; b) </td>\n",
        "</tr>\n",
        "<tr>\n",
        "<td>&gt;=</td>\n",
        "<td>Se o valor do operando esquerdo for maior ou igual ao valor do operando direito, a condição torna-se verdadeira.</td>\n",
        "<td> (a &gt;= b)  </td>\n",
        "</tr>\n",
        "<tr>\n",
        "<td>&lt;=</td>\n",
        "<td>Se o valor do operando esquerdo for menor ou igual ao valor do operando direito, a condição torna-se verdadeira.</td>\n",
        "<td> (a &lt;= b)  </td>\n",
        "</tr>\n",
        "</table>\n",
        "\n",
        "Operadores de comparação em cadeia\n",
        "\n",
        "Uma característica interessante do Python é a capacidade de **encadear** comparações múltiplas para realizar um teste mais complexo. Você pode usar essas comparações em cadeia como uma abreviatura para expressões booleanas maiores.\n",
        "\n",
        "Além disso podemos usar as declarações: **and** e **or**."
      ],
      "metadata": {
        "id": "RkLXPspZr_tT"
      }
    },
    {
      "cell_type": "code",
      "metadata": {
        "colab": {
          "base_uri": "https://localhost:8080/"
        },
        "id": "FyVfbhloQIgT",
        "outputId": "651654c3-171d-49e9-d4e3-4e6a2b856252"
      },
      "source": [
        "1 < 2 < 3"
      ],
      "execution_count": null,
      "outputs": [
        {
          "output_type": "execute_result",
          "data": {
            "text/plain": [
              "True"
            ]
          },
          "metadata": {},
          "execution_count": 7
        }
      ]
    },
    {
      "cell_type": "code",
      "metadata": {
        "colab": {
          "base_uri": "https://localhost:8080/"
        },
        "id": "48d7gPDJQIgf",
        "outputId": "d27e3ece-233e-4d12-cc9f-4d6fef98c648"
      },
      "source": [
        "1 < 2 or 1 > 3"
      ],
      "execution_count": null,
      "outputs": [
        {
          "output_type": "execute_result",
          "data": {
            "text/plain": [
              "True"
            ]
          },
          "metadata": {},
          "execution_count": 8
        }
      ]
    },
    {
      "cell_type": "code",
      "metadata": {
        "id": "nyuQw7VJQIgg",
        "outputId": "a932bad9-beb6-47d3-e913-6d598e3a28ae",
        "colab": {
          "base_uri": "https://localhost:8080/"
        }
      },
      "source": [
        "x = 98\n",
        "y = 980\n",
        "z = 9\n",
        "\n",
        "x == z and z > y"
      ],
      "execution_count": null,
      "outputs": [
        {
          "output_type": "execute_result",
          "data": {
            "text/plain": [
              "False"
            ]
          },
          "metadata": {},
          "execution_count": 9
        }
      ]
    },
    {
      "cell_type": "code",
      "metadata": {
        "colab": {
          "base_uri": "https://localhost:8080/"
        },
        "id": "dm5KLfWxQKf0",
        "outputId": "0fc00834-fd0f-4a10-e918-0130d7aa2898"
      },
      "source": [
        "x = 10\n",
        "y = 9\n",
        "if x != y:\n",
        "  print('diferente')"
      ],
      "execution_count": null,
      "outputs": [
        {
          "output_type": "stream",
          "name": "stdout",
          "text": [
            "diferente\n"
          ]
        }
      ]
    },
    {
      "cell_type": "markdown",
      "source": [
        "## Entrada de dados:"
      ],
      "metadata": {
        "id": "8VBfP3qtWsv2"
      }
    },
    {
      "cell_type": "code",
      "source": [
        "# Função input captura o valor digitado pelo usuario e insere dentro de uma váriavel;\n",
        "Número = input('Informe o peso: ')"
      ],
      "metadata": {
        "colab": {
          "base_uri": "https://localhost:8080/"
        },
        "id": "E8TLXorrWvZ1",
        "outputId": "353dcc77-c1e0-472e-cd23-7b7f4554e726"
      },
      "execution_count": null,
      "outputs": [
        {
          "name": "stdout",
          "output_type": "stream",
          "text": [
            "Informe o peso: 65\n"
          ]
        }
      ]
    },
    {
      "cell_type": "code",
      "source": [
        "# Apresenta a variável dentro do texto de saída\n",
        "print(f'O Número informado foi: {Número}')"
      ],
      "metadata": {
        "colab": {
          "base_uri": "https://localhost:8080/"
        },
        "id": "iwolOpjvXH8X",
        "outputId": "809688a2-af98-42ab-b761-a3b318241b79"
      },
      "execution_count": null,
      "outputs": [
        {
          "output_type": "stream",
          "name": "stdout",
          "text": [
            "O Número informado foi: 65\n"
          ]
        }
      ]
    },
    {
      "cell_type": "code",
      "source": [
        "# inputs recebem sempre como string - Não é possivel realizar operações Aritmeticas com esses valores;\n",
        "type(Número)"
      ],
      "metadata": {
        "colab": {
          "base_uri": "https://localhost:8080/"
        },
        "id": "GhlU14zYXdF-",
        "outputId": "ddb82c37-9ad5-448d-89cd-bf1e82d904f8"
      },
      "execution_count": null,
      "outputs": [
        {
          "output_type": "execute_result",
          "data": {
            "text/plain": [
              "str"
            ]
          },
          "metadata": {},
          "execution_count": 13
        }
      ]
    },
    {
      "cell_type": "code",
      "source": [
        "# Método para transformar a váriavel em um float (Número real)\n",
        "Número = float(Número)\n",
        "\n",
        "# Método para transformar a váriavel em um int (Número natural)\n",
        "# Número = int(Número)\n",
        "\n",
        "# Método para transformar a váriavel em uma string (Texto)\n",
        "# Número = str(Número)"
      ],
      "metadata": {
        "id": "8_FaRDNwXq2W"
      },
      "execution_count": null,
      "outputs": []
    },
    {
      "cell_type": "code",
      "source": [
        "type(Número)"
      ],
      "metadata": {
        "colab": {
          "base_uri": "https://localhost:8080/"
        },
        "id": "fHRIkzroX8et",
        "outputId": "e8864056-0620-41b7-ec94-cbdd32545616"
      },
      "execution_count": null,
      "outputs": [
        {
          "output_type": "execute_result",
          "data": {
            "text/plain": [
              "float"
            ]
          },
          "metadata": {},
          "execution_count": 15
        }
      ]
    },
    {
      "cell_type": "markdown",
      "source": [
        "## Exemplo Prático:"
      ],
      "metadata": {
        "id": "u57d6JCDZMCf"
      }
    },
    {
      "cell_type": "code",
      "source": [
        "# Inserir o valor na váriavel + transformar o valor digitado em float\n",
        "Comprimento = float(input('informe o Comprimento: '))"
      ],
      "metadata": {
        "colab": {
          "base_uri": "https://localhost:8080/"
        },
        "id": "hYX-4ioUYGZt",
        "outputId": "74629923-37b1-441c-9dd4-4fdb1052dec0"
      },
      "execution_count": null,
      "outputs": [
        {
          "name": "stdout",
          "output_type": "stream",
          "text": [
            "informe o Comprimento: 50\n"
          ]
        }
      ]
    },
    {
      "cell_type": "code",
      "source": [
        "Largura = float(input('informe a Largura: '))"
      ],
      "metadata": {
        "colab": {
          "base_uri": "https://localhost:8080/"
        },
        "id": "nLAqB-AVZHme",
        "outputId": "4721b1a1-1b15-4bbf-97b7-b0540ef870b4"
      },
      "execution_count": null,
      "outputs": [
        {
          "name": "stdout",
          "output_type": "stream",
          "text": [
            "informe a Largura: 25\n"
          ]
        }
      ]
    },
    {
      "cell_type": "code",
      "source": [
        "# O \".2\" determinada a quantidade de casas após a virgula;\n",
        "print(f'A medida de um retangulo é: {(Comprimento*Largura):.2f}')"
      ],
      "metadata": {
        "colab": {
          "base_uri": "https://localhost:8080/"
        },
        "id": "cK5AG3T8Y_2u",
        "outputId": "b0ad572d-4d14-4782-d79c-0a59119c1edf"
      },
      "execution_count": null,
      "outputs": [
        {
          "output_type": "stream",
          "name": "stdout",
          "text": [
            "A medida de um retangulo é: 1250.00\n"
          ]
        }
      ]
    },
    {
      "cell_type": "markdown",
      "source": [
        "# Strings (Texto)"
      ],
      "metadata": {
        "id": "fNXiAo22Z-Hv"
      }
    },
    {
      "cell_type": "markdown",
      "source": [
        "As Strings em Python são sequências de caracteres. Isso significa que poderemos usar a indexação para pegar letras particulares (como a primeira letra ou a última letra)."
      ],
      "metadata": {
        "id": "Mr8IArtTaJYe"
      }
    },
    {
      "cell_type": "code",
      "source": [
        "nome = 'Gustavo'\n",
        "curso = 'TADS'\n",
        "exemplo = \"Turma 'A'\" #aspas simples interna"
      ],
      "metadata": {
        "id": "Y3bIduteaKdG"
      },
      "execution_count": null,
      "outputs": []
    },
    {
      "cell_type": "code",
      "source": [
        "# Função len: Determina a quantidade de elementos que existe em uma sêquencia. (Length)\n",
        "len(nome)\n",
        "# len(curso)\n",
        "# Caso seja colocado uma função em baixo da outra só a ultima será imprimida;"
      ],
      "metadata": {
        "colab": {
          "base_uri": "https://localhost:8080/"
        },
        "id": "MB7YdT26ab1n",
        "outputId": "5df7d1ed-cbea-4e06-f4ec-a4b8c20c38e4"
      },
      "execution_count": null,
      "outputs": [
        {
          "output_type": "execute_result",
          "data": {
            "text/plain": [
              "7"
            ]
          },
          "metadata": {},
          "execution_count": 20
        }
      ]
    },
    {
      "cell_type": "code",
      "source": [
        "len(curso)"
      ],
      "metadata": {
        "colab": {
          "base_uri": "https://localhost:8080/"
        },
        "id": "hAasexXXayhW",
        "outputId": "5e0cd37f-204d-460a-816e-053839fa0690"
      },
      "execution_count": null,
      "outputs": [
        {
          "output_type": "execute_result",
          "data": {
            "text/plain": [
              "4"
            ]
          },
          "metadata": {},
          "execution_count": 21
        }
      ]
    },
    {
      "cell_type": "code",
      "source": [
        "# pode usar o operador in para fazer testes em sequencias do python\n",
        "'a' in nome \n",
        "# Existe um \"a\" na sequencia nome;"
      ],
      "metadata": {
        "colab": {
          "base_uri": "https://localhost:8080/"
        },
        "id": "mixICx-8bDyI",
        "outputId": "8aced507-1f1f-4cec-daef-5274fbb33209"
      },
      "execution_count": null,
      "outputs": [
        {
          "output_type": "execute_result",
          "data": {
            "text/plain": [
              "True"
            ]
          },
          "metadata": {},
          "execution_count": 22
        }
      ]
    },
    {
      "cell_type": "markdown",
      "source": [
        "## Indexação:"
      ],
      "metadata": {
        "id": "08ssnSJubaXO"
      }
    },
    {
      "cell_type": "code",
      "source": [
        "# Curso = TADS\n",
        "# A sequência começa a partir da posição 0\n",
        "print(curso[0])\n",
        "print(curso[1])\n",
        "print(curso[2])\n",
        "print(curso[3])"
      ],
      "metadata": {
        "colab": {
          "base_uri": "https://localhost:8080/"
        },
        "id": "KyI4YP2qbc6-",
        "outputId": "69f6cad1-688d-4146-e2c1-4401e9eab1a1"
      },
      "execution_count": null,
      "outputs": [
        {
          "output_type": "stream",
          "name": "stdout",
          "text": [
            "T\n",
            "A\n",
            "D\n",
            "S\n"
          ]
        }
      ]
    },
    {
      "cell_type": "code",
      "source": [
        "# retorna a partir da ultima letra\n",
        "print(curso[-1])\n",
        "print(curso[-2])\n",
        "print(curso[-3])\n",
        "print(curso[-4])"
      ],
      "metadata": {
        "colab": {
          "base_uri": "https://localhost:8080/"
        },
        "id": "Jtb_kag5brx-",
        "outputId": "93d47724-7f07-493f-c03f-eae714a5689d"
      },
      "execution_count": null,
      "outputs": [
        {
          "output_type": "stream",
          "name": "stdout",
          "text": [
            "S\n",
            "D\n",
            "A\n",
            "T\n"
          ]
        }
      ]
    },
    {
      "cell_type": "markdown",
      "source": [
        "## Cortes:"
      ],
      "metadata": {
        "id": "VP8ZQrJPb4C2"
      }
    },
    {
      "cell_type": "markdown",
      "source": [
        "Podemos usar \" : \" para executar cortes que retorna tudo até um ponto designado"
      ],
      "metadata": {
        "id": "fqniG8y2cEG2"
      }
    },
    {
      "cell_type": "markdown",
      "source": [
        "Lembrando: Nome = Gustavo\\\n",
        "curso[0] = G\n",
        "\n",
        "curso[1] = u\n",
        "\n",
        "curso[2] = s\n",
        "\n",
        "curso[3] = t\n",
        "\n",
        "curso[4] = a\n",
        "\n",
        "curso[5] = v\n",
        "\n",
        "curso[6] = o"
      ],
      "metadata": {
        "id": "MidedqCDcdJP"
      }
    },
    {
      "cell_type": "code",
      "source": [
        "#iniciando no índice 3 até o final\n",
        "print(nome[3:])"
      ],
      "metadata": {
        "colab": {
          "base_uri": "https://localhost:8080/"
        },
        "id": "b5yu9WfTb8I2",
        "outputId": "dc1b5702-5fd5-4e99-c5cb-0c1571e8fda8"
      },
      "execution_count": null,
      "outputs": [
        {
          "output_type": "stream",
          "name": "stdout",
          "text": [
            "tavo\n"
          ]
        }
      ]
    },
    {
      "cell_type": "code",
      "source": [
        "#iniciando no índice 2 até o índice 3 (não inclui o 4)\n",
        "print(nome[2:4])"
      ],
      "metadata": {
        "colab": {
          "base_uri": "https://localhost:8080/"
        },
        "id": "3DelaE7lcUJv",
        "outputId": "d931459a-860d-4c22-c30a-8cae76117f5b"
      },
      "execution_count": null,
      "outputs": [
        {
          "output_type": "stream",
          "name": "stdout",
          "text": [
            "st\n"
          ]
        }
      ]
    },
    {
      "cell_type": "code",
      "source": [
        "#inicio até índice 4 (nao inclui o 5)\n",
        "print(nome[:5])"
      ],
      "metadata": {
        "colab": {
          "base_uri": "https://localhost:8080/"
        },
        "id": "i_Fl54QidF3_",
        "outputId": "a4058d21-a27f-4097-aa89-c5d2bed57139"
      },
      "execution_count": null,
      "outputs": [
        {
          "output_type": "stream",
          "name": "stdout",
          "text": [
            "Gusta\n"
          ]
        }
      ]
    },
    {
      "cell_type": "code",
      "source": [
        "#inicio ao fim\n",
        "print(nome[:]) "
      ],
      "metadata": {
        "colab": {
          "base_uri": "https://localhost:8080/"
        },
        "id": "ec8z9EJ0dNLw",
        "outputId": "954cfba8-d5c3-435c-a0de-07edf74df48c"
      },
      "execution_count": null,
      "outputs": [
        {
          "output_type": "stream",
          "name": "stdout",
          "text": [
            "Gustavo\n"
          ]
        }
      ]
    },
    {
      "cell_type": "code",
      "source": [
        "# ultimo caractere\n",
        "print(nome[-1]) "
      ],
      "metadata": {
        "colab": {
          "base_uri": "https://localhost:8080/"
        },
        "id": "5GXRptucdQu_",
        "outputId": "9b08eaeb-2cb7-4cb3-e638-a8285bd130a2"
      },
      "execution_count": null,
      "outputs": [
        {
          "output_type": "stream",
          "name": "stdout",
          "text": [
            "o\n"
          ]
        }
      ]
    },
    {
      "cell_type": "code",
      "source": [
        "#inicio ao penultimo\n",
        "print(nome[:-1])"
      ],
      "metadata": {
        "colab": {
          "base_uri": "https://localhost:8080/"
        },
        "id": "2I0XJ23CdU3W",
        "outputId": "fc716407-f0f0-49d3-8d28-ba66e61c1147"
      },
      "execution_count": null,
      "outputs": [
        {
          "output_type": "stream",
          "name": "stdout",
          "text": [
            "Gustav\n"
          ]
        }
      ]
    },
    {
      "cell_type": "code",
      "source": [
        "#Onde começa : Até onde vai : de quanto em quanto\n",
        "print(nome[0:5:2])"
      ],
      "metadata": {
        "colab": {
          "base_uri": "https://localhost:8080/"
        },
        "id": "Ajg7LoUbda7v",
        "outputId": "ecdb8c06-98ba-48b4-d9e8-4b68f6d6048b"
      },
      "execution_count": null,
      "outputs": [
        {
          "output_type": "stream",
          "name": "stdout",
          "text": [
            "Gsa\n"
          ]
        }
      ]
    },
    {
      "cell_type": "code",
      "source": [
        "#Com toda a sequência (inicio:fim:passos)\n",
        "print(nome[::2])"
      ],
      "metadata": {
        "colab": {
          "base_uri": "https://localhost:8080/"
        },
        "id": "-Hp55fzDduXJ",
        "outputId": "f6b91532-b4ea-475e-8dde-c5253b0a5504"
      },
      "execution_count": null,
      "outputs": [
        {
          "output_type": "stream",
          "name": "stdout",
          "text": [
            "Gsao\n"
          ]
        }
      ]
    },
    {
      "cell_type": "code",
      "source": [
        "# Onde começa (0) : Até onde vai (ultimo elemento) : de trás pra frente\n",
        "print(nome[::-1])"
      ],
      "metadata": {
        "colab": {
          "base_uri": "https://localhost:8080/"
        },
        "id": "VwxsKcH8d45d",
        "outputId": "355072e2-6550-48a4-f729-8fdc566c1fc5"
      },
      "execution_count": null,
      "outputs": [
        {
          "output_type": "stream",
          "name": "stdout",
          "text": [
            "ovatsuG\n"
          ]
        }
      ]
    },
    {
      "cell_type": "markdown",
      "source": [
        "## Propriedade Importante:\n",
        "\n"
      ],
      "metadata": {
        "id": "N_ZvIaJIeOwD"
      }
    },
    {
      "cell_type": "markdown",
      "metadata": {
        "id": "nFg2RXPQElgP"
      },
      "source": [
        "**imutabilidade**: Uma vez que uma string é criada, **os elementos nela não podem ser alterados ou substituídos por indexação.**"
      ]
    },
    {
      "cell_type": "code",
      "source": [
        "# Lembrando: nome = Gustavo / nome[0] = G;\n",
        "nome[0] = 'M'"
      ],
      "metadata": {
        "id": "R38v6K9secZn",
        "colab": {
          "base_uri": "https://localhost:8080/",
          "height": 183
        },
        "outputId": "99d84b60-8a3d-468b-fa62-049a87d545f5"
      },
      "execution_count": null,
      "outputs": [
        {
          "output_type": "error",
          "ename": "TypeError",
          "evalue": "ignored",
          "traceback": [
            "\u001b[0;31m---------------------------------------------------------------------------\u001b[0m",
            "\u001b[0;31mTypeError\u001b[0m                                 Traceback (most recent call last)",
            "\u001b[0;32m<ipython-input-34-2a072ba4cf6e>\u001b[0m in \u001b[0;36m<module>\u001b[0;34m()\u001b[0m\n\u001b[1;32m      1\u001b[0m \u001b[0;31m# Lembrando: nome = Gustavo / nome[0] = G;\u001b[0m\u001b[0;34m\u001b[0m\u001b[0;34m\u001b[0m\u001b[0;34m\u001b[0m\u001b[0m\n\u001b[0;32m----> 2\u001b[0;31m \u001b[0mnome\u001b[0m\u001b[0;34m[\u001b[0m\u001b[0;36m0\u001b[0m\u001b[0;34m]\u001b[0m \u001b[0;34m=\u001b[0m \u001b[0;34m'M'\u001b[0m\u001b[0;34m\u001b[0m\u001b[0;34m\u001b[0m\u001b[0m\n\u001b[0m",
            "\u001b[0;31mTypeError\u001b[0m: 'str' object does not support item assignment"
          ]
        }
      ]
    },
    {
      "cell_type": "markdown",
      "source": [
        "**Concatenação**: Junção ou manipulação de strings;"
      ],
      "metadata": {
        "id": "0yud09DUext4"
      }
    },
    {
      "cell_type": "code",
      "source": [
        "# Nome agora será: Letra C + Sequência a partir do curso 1;\n",
        "nome = 'C' + nome[1:]\n",
        "print(nome)"
      ],
      "metadata": {
        "id": "Y5atw8XWe44P"
      },
      "execution_count": null,
      "outputs": []
    },
    {
      "cell_type": "code",
      "source": [
        "curso = 'TADS' # Serve para zerar o comando de repetição;\n",
        "curso = curso + ' ' # Dá um espaço entre 1 nome e outro;\n",
        "curso = curso * 4   # Repete esse nome uma quantidade determinada de vezes;\n",
        "print(curso)"
      ],
      "metadata": {
        "colab": {
          "base_uri": "https://localhost:8080/"
        },
        "id": "d2qahpXrgGD4",
        "outputId": "9020a8f8-00fa-4f1f-92a5-f9ab099e98d8"
      },
      "execution_count": null,
      "outputs": [
        {
          "output_type": "stream",
          "name": "stdout",
          "text": [
            "TADS TADS TADS TADS \n"
          ]
        }
      ]
    },
    {
      "cell_type": "markdown",
      "source": [
        "## Métodos de Strings:"
      ],
      "metadata": {
        "id": "voko6c77g1A4"
      }
    },
    {
      "cell_type": "markdown",
      "source": [
        "Documentação: https://docs.python.org/3.7/library/stdtypes.html#string-methods"
      ],
      "metadata": {
        "id": "TXfOdyCGg94g"
      }
    },
    {
      "cell_type": "code",
      "source": [
        "# Método upper(): Retorna todos os caracteres da string em formato maiúsculo.\n",
        "nome = 'Gustavo Maciel'\n",
        "print(nome.upper())"
      ],
      "metadata": {
        "colab": {
          "base_uri": "https://localhost:8080/"
        },
        "id": "nieYBC-EhIcg",
        "outputId": "a5aa3b17-ebe8-4216-9885-2a120ab78404"
      },
      "execution_count": null,
      "outputs": [
        {
          "output_type": "stream",
          "name": "stdout",
          "text": [
            "GUSTAVO MACIEL\n"
          ]
        }
      ]
    },
    {
      "cell_type": "code",
      "source": [
        "# Método split(): Retorna o texto segmentado a partir de uma determinado caractere;\n",
        "# Se não especificar o termo ele vira o espaço entre as palavras;\n",
        "nome = 'Gustavo Maciel'\n",
        "print(nome.split())"
      ],
      "metadata": {
        "colab": {
          "base_uri": "https://localhost:8080/"
        },
        "id": "o6sF3WAZiHYq",
        "outputId": "5de65e0a-5a9d-4658-bfa2-2e1caaf50a84"
      },
      "execution_count": null,
      "outputs": [
        {
          "output_type": "stream",
          "name": "stdout",
          "text": [
            "['Gustavo', 'Maciel']\n"
          ]
        }
      ]
    },
    {
      "cell_type": "code",
      "source": [
        "nome = 'Gustavo'\n",
        "print(nome.split('t'))"
      ],
      "metadata": {
        "colab": {
          "base_uri": "https://localhost:8080/"
        },
        "id": "uh7hPDSGjKKJ",
        "outputId": "3dbcf66f-cbd8-4af2-9518-1755d3cf4e08"
      },
      "execution_count": null,
      "outputs": [
        {
          "output_type": "stream",
          "name": "stdout",
          "text": [
            "['Gus', 'avo']\n"
          ]
        }
      ]
    },
    {
      "cell_type": "code",
      "source": [
        "#remove os espaços em branco no começo e fim da string\n",
        "nome = '   Gustavo   '\n",
        "print(nome.strip())"
      ],
      "metadata": {
        "colab": {
          "base_uri": "https://localhost:8080/"
        },
        "id": "R9_PC7N-i4nq",
        "outputId": "f9373333-1063-4b56-d306-90ec14e18ac0"
      },
      "execution_count": null,
      "outputs": [
        {
          "output_type": "stream",
          "name": "stdout",
          "text": [
            "Gustavo\n"
          ]
        }
      ]
    },
    {
      "cell_type": "code",
      "source": [
        "#\\n: quebra linha\n",
        "print('meu nome é ', nome, '\\nmeu curso é ', curso)"
      ],
      "metadata": {
        "colab": {
          "base_uri": "https://localhost:8080/"
        },
        "id": "IrtvLg_mjZSR",
        "outputId": "7e0286da-1706-4749-f86c-49bafaeaec05"
      },
      "execution_count": null,
      "outputs": [
        {
          "output_type": "stream",
          "name": "stdout",
          "text": [
            "meu nome é     Gustavo    \n",
            "meu curso é  TADS TADS TADS TADS \n"
          ]
        }
      ]
    },
    {
      "cell_type": "markdown",
      "source": [
        "# Booleano(Valores Lógicos)"
      ],
      "metadata": {
        "id": "YmEyYmbljx0U"
      }
    },
    {
      "cell_type": "code",
      "metadata": {
        "id": "-8H5N_RBElgH"
      },
      "source": [
        "x = True\n",
        "y = False"
      ],
      "execution_count": null,
      "outputs": []
    },
    {
      "cell_type": "code",
      "metadata": {
        "id": "f_BahZQRElgH"
      },
      "source": [
        "type(x)"
      ],
      "execution_count": null,
      "outputs": []
    },
    {
      "cell_type": "code",
      "metadata": {
        "colab": {
          "base_uri": "https://localhost:8080/"
        },
        "id": "F9xOW5EWElgH",
        "outputId": "9c3fad46-e4a4-4b4f-b9c3-a809229b0361"
      },
      "source": [
        "print(not x)"
      ],
      "execution_count": null,
      "outputs": [
        {
          "output_type": "stream",
          "name": "stdout",
          "text": [
            "False\n"
          ]
        }
      ]
    },
    {
      "cell_type": "markdown",
      "source": [
        "## Operações Booleanas"
      ],
      "metadata": {
        "id": "MjH9NwrQkPN5"
      }
    },
    {
      "cell_type": "code",
      "source": [
        "#(Conjunção)\n",
        "# Verdadeiro e Falso = Falso\n",
        "x & y "
      ],
      "metadata": {
        "colab": {
          "base_uri": "https://localhost:8080/"
        },
        "id": "qsOWmNerkGx6",
        "outputId": "3ffae75b-80b4-468d-f038-7536c8558315"
      },
      "execution_count": null,
      "outputs": [
        {
          "output_type": "execute_result",
          "data": {
            "text/plain": [
              "False"
            ]
          },
          "metadata": {},
          "execution_count": 46
        }
      ]
    },
    {
      "cell_type": "code",
      "source": [
        "#(Disjunção)\n",
        "# Verdadeiro ou Falso = Verdadeiro\n",
        "x | y "
      ],
      "metadata": {
        "colab": {
          "base_uri": "https://localhost:8080/"
        },
        "id": "B8ynRJg-kai6",
        "outputId": "b9023111-9be0-4f63-a5a2-d144910b3283"
      },
      "execution_count": null,
      "outputs": [
        {
          "output_type": "execute_result",
          "data": {
            "text/plain": [
              "True"
            ]
          },
          "metadata": {},
          "execution_count": 47
        }
      ]
    },
    {
      "cell_type": "code",
      "source": [
        "#(Negação)\n",
        "# Inversão do valor lógico original\n",
        "not x"
      ],
      "metadata": {
        "colab": {
          "base_uri": "https://localhost:8080/"
        },
        "id": "j2zAmdhMkhgB",
        "outputId": "44c2d85a-61de-4ced-be10-cbd38e8851cd"
      },
      "execution_count": null,
      "outputs": [
        {
          "output_type": "execute_result",
          "data": {
            "text/plain": [
              "False"
            ]
          },
          "metadata": {},
          "execution_count": 48
        }
      ]
    },
    {
      "cell_type": "code",
      "source": [
        "not (x & y)"
      ],
      "metadata": {
        "colab": {
          "base_uri": "https://localhost:8080/"
        },
        "id": "EnMv-eaMkqOx",
        "outputId": "b5a8502a-cb0f-4410-bddf-b4b67cb2b322"
      },
      "execution_count": null,
      "outputs": [
        {
          "output_type": "execute_result",
          "data": {
            "text/plain": [
              "True"
            ]
          },
          "metadata": {},
          "execution_count": 49
        }
      ]
    },
    {
      "cell_type": "markdown",
      "source": [
        "## Condicionais:"
      ],
      "metadata": {
        "id": "mm5J67pxlDAC"
      }
    },
    {
      "cell_type": "code",
      "metadata": {
        "id": "FeGJof1fQ7-i"
      },
      "source": [
        "teste = 1000"
      ],
      "execution_count": null,
      "outputs": []
    },
    {
      "cell_type": "code",
      "metadata": {
        "id": "FrdC1YVxQ-hW"
      },
      "source": [
        "# Qualquer valor = True\n",
        "# 0 = False\n",
        "if teste: \n",
        "  print('verdadeiro')\n",
        "else:\n",
        "  print('falso')"
      ],
      "execution_count": null,
      "outputs": []
    },
    {
      "cell_type": "code",
      "source": [
        "if teste < 200: \n",
        "  print('verdadeiro')\n",
        "else:\n",
        "  print('falso')"
      ],
      "metadata": {
        "colab": {
          "base_uri": "https://localhost:8080/"
        },
        "id": "74kuEew_l7Mi",
        "outputId": "c924fd91-2375-4f69-ef11-48d50daad2d4"
      },
      "execution_count": null,
      "outputs": [
        {
          "output_type": "stream",
          "name": "stdout",
          "text": [
            "falso\n"
          ]
        }
      ]
    },
    {
      "cell_type": "code",
      "metadata": {
        "id": "VlFmAY_gHr3P"
      },
      "source": [
        "teste2 = '    '"
      ],
      "execution_count": null,
      "outputs": []
    },
    {
      "cell_type": "code",
      "metadata": {
        "colab": {
          "base_uri": "https://localhost:8080/"
        },
        "id": "y_1idyZgHuis",
        "outputId": "55197f81-8791-437a-b708-abe421fef216"
      },
      "source": [
        "if not teste2.strip():\n",
        "  print('vazio')\n",
        "else:\n",
        "  print('não vazio')"
      ],
      "execution_count": null,
      "outputs": [
        {
          "output_type": "stream",
          "name": "stdout",
          "text": [
            "vazio\n"
          ]
        }
      ]
    },
    {
      "cell_type": "markdown",
      "source": [
        "# Lista (Estrutura Abstrata Heterogenea):"
      ],
      "metadata": {
        "id": "n_RmOFbNm-7k"
      }
    },
    {
      "cell_type": "markdown",
      "metadata": {
        "id": "huEL49OiElgT"
      },
      "source": [
        "\n",
        "1.   **sequências** de valores quaisquer colocados entre colchetes e separados por vírgula. \n",
        "2.   Ao contrário das strings, eles são mutáveis, o que significa que os elementos dentro de uma lista podem ser alterados por indexação."
      ]
    },
    {
      "cell_type": "code",
      "metadata": {
        "id": "glrA7KKUElgT"
      },
      "source": [
        "Alunos = ['George', 'Luan', 'Yure', 'Gustavo']"
      ],
      "execution_count": null,
      "outputs": []
    },
    {
      "cell_type": "code",
      "source": [
        "type(Alunos)"
      ],
      "metadata": {
        "colab": {
          "base_uri": "https://localhost:8080/"
        },
        "id": "oAMQCJBDnsQb",
        "outputId": "6a9a37e9-e93a-4eec-c582-a20ced65ed8a"
      },
      "execution_count": null,
      "outputs": [
        {
          "output_type": "execute_result",
          "data": {
            "text/plain": [
              "list"
            ]
          },
          "metadata": {},
          "execution_count": 3
        }
      ]
    },
    {
      "cell_type": "code",
      "source": [
        "len(Alunos)"
      ],
      "metadata": {
        "colab": {
          "base_uri": "https://localhost:8080/"
        },
        "id": "U5oQLUGonxNi",
        "outputId": "e64d2bfb-3b04-4419-cb02-71f45bc08fd6"
      },
      "execution_count": null,
      "outputs": [
        {
          "output_type": "execute_result",
          "data": {
            "text/plain": [
              "4"
            ]
          },
          "metadata": {},
          "execution_count": 4
        }
      ]
    },
    {
      "cell_type": "code",
      "source": [
        "#Elementos:\n",
        "print(Alunos[0])\n",
        "print(Alunos[1])\n",
        "print(Alunos[2])\n",
        "print(Alunos[3])"
      ],
      "metadata": {
        "id": "sozGMOSwoAHL",
        "colab": {
          "base_uri": "https://localhost:8080/"
        },
        "outputId": "9edaf67f-b924-4a7c-d904-07aa28f11701"
      },
      "execution_count": null,
      "outputs": [
        {
          "output_type": "stream",
          "name": "stdout",
          "text": [
            "George\n",
            "Luan\n",
            "Yure\n",
            "Gustavo\n"
          ]
        }
      ]
    },
    {
      "cell_type": "code",
      "source": [
        "#Ultimo elemento\n",
        "print(Alunos[-1])"
      ],
      "metadata": {
        "colab": {
          "base_uri": "https://localhost:8080/"
        },
        "id": "U52L10xWoGwT",
        "outputId": "f2a7443f-8857-4ede-9f6d-9ea440b2790a"
      },
      "execution_count": null,
      "outputs": [
        {
          "output_type": "stream",
          "name": "stdout",
          "text": [
            "Gustavo\n"
          ]
        }
      ]
    },
    {
      "cell_type": "code",
      "source": [
        "#substitui\n",
        "Alunos[3] = 'Enuch'\n",
        "print(Alunos)"
      ],
      "metadata": {
        "colab": {
          "base_uri": "https://localhost:8080/"
        },
        "id": "i2dyuTgEoMbk",
        "outputId": "9054dc9b-b9a5-4c69-eebf-67c032e3fe8c"
      },
      "execution_count": null,
      "outputs": [
        {
          "output_type": "stream",
          "name": "stdout",
          "text": [
            "['George', 'Luan', 'Yure', 'Enuch']\n"
          ]
        }
      ]
    },
    {
      "cell_type": "code",
      "source": [
        "#Onde começa : Até onde vai : de quanto em quanto\n",
        "print(Alunos[::2])"
      ],
      "metadata": {
        "id": "U_B5HJdToZeS",
        "colab": {
          "base_uri": "https://localhost:8080/"
        },
        "outputId": "fe41bc78-4ec6-414f-bd97-2d868a173d33"
      },
      "execution_count": null,
      "outputs": [
        {
          "output_type": "stream",
          "name": "stdout",
          "text": [
            "['George', 'Yure']\n"
          ]
        }
      ]
    },
    {
      "cell_type": "code",
      "source": [
        "#Adiciona novos integrantes por meio do conceito de adição de listas (conjuntos)\n",
        "Alunos = Alunos + ['Gustavo']\n",
        "print(Alunos)"
      ],
      "metadata": {
        "id": "um7ImUretdUU",
        "colab": {
          "base_uri": "https://localhost:8080/"
        },
        "outputId": "73b0bb12-ec21-4455-b218-3686de24ce8e"
      },
      "execution_count": null,
      "outputs": [
        {
          "output_type": "stream",
          "name": "stdout",
          "text": [
            "['George', 'Luan', 'Yure', 'Enuch', 'Gustavo']\n"
          ]
        }
      ]
    },
    {
      "cell_type": "code",
      "source": [
        "#Não concatena se não for outra lista\n",
        "Alunos = Alunos + 11"
      ],
      "metadata": {
        "id": "NA-hmK2V4taG",
        "colab": {
          "base_uri": "https://localhost:8080/",
          "height": 183
        },
        "outputId": "16b91c40-d459-41d5-9231-f5df6167c77c"
      },
      "execution_count": null,
      "outputs": [
        {
          "output_type": "error",
          "ename": "TypeError",
          "evalue": "ignored",
          "traceback": [
            "\u001b[0;31m---------------------------------------------------------------------------\u001b[0m",
            "\u001b[0;31mTypeError\u001b[0m                                 Traceback (most recent call last)",
            "\u001b[0;32m<ipython-input-10-ace27f475d73>\u001b[0m in \u001b[0;36m<module>\u001b[0;34m()\u001b[0m\n\u001b[1;32m      1\u001b[0m \u001b[0;31m#Não concatena se não for outra lista\u001b[0m\u001b[0;34m\u001b[0m\u001b[0;34m\u001b[0m\u001b[0;34m\u001b[0m\u001b[0m\n\u001b[0;32m----> 2\u001b[0;31m \u001b[0mAlunos\u001b[0m \u001b[0;34m=\u001b[0m \u001b[0mAlunos\u001b[0m \u001b[0;34m+\u001b[0m \u001b[0;36m11\u001b[0m\u001b[0;34m\u001b[0m\u001b[0;34m\u001b[0m\u001b[0m\n\u001b[0m",
            "\u001b[0;31mTypeError\u001b[0m: can only concatenate list (not \"int\") to list"
          ]
        }
      ]
    },
    {
      "cell_type": "code",
      "source": [
        "#Duplica o conteudo da lista\n",
        "Alunos = Alunos * 2\n",
        "print(Alunos)"
      ],
      "metadata": {
        "colab": {
          "base_uri": "https://localhost:8080/"
        },
        "id": "lyDblwtb5AJ8",
        "outputId": "cff61bc1-5ff8-4b36-96e9-972d8dd162c5"
      },
      "execution_count": null,
      "outputs": [
        {
          "output_type": "stream",
          "name": "stdout",
          "text": [
            "['George', 'Luan', 'Yure', 'Enuch', 'Gustavo', 'George', 'Luan', 'Yure', 'Enuch', 'Gustavo']\n"
          ]
        }
      ]
    },
    {
      "cell_type": "code",
      "source": [
        "#criação de lista vazia\n",
        "TesteCriaçao = []\n",
        "type(TesteCriaçao)"
      ],
      "metadata": {
        "colab": {
          "base_uri": "https://localhost:8080/"
        },
        "id": "a-0fAk525b-b",
        "outputId": "919c6c8f-4f95-4439-cc09-7fbfb0a507c9"
      },
      "execution_count": null,
      "outputs": [
        {
          "output_type": "execute_result",
          "data": {
            "text/plain": [
              "list"
            ]
          },
          "metadata": {},
          "execution_count": 12
        }
      ]
    },
    {
      "cell_type": "markdown",
      "source": [
        "## Metódos de Listas"
      ],
      "metadata": {
        "id": "ucwWT9LDe7uE"
      }
    },
    {
      "cell_type": "code",
      "source": [
        "# Append: Adiciona um elemento no final da lista\n",
        "TesteCriaçao.append(200)\n",
        "print(TesteCriaçao)"
      ],
      "metadata": {
        "colab": {
          "base_uri": "https://localhost:8080/"
        },
        "id": "vdksMEd_e_h6",
        "outputId": "d4bc8eea-73e9-44eb-c0f3-901463744ece"
      },
      "execution_count": null,
      "outputs": [
        {
          "output_type": "stream",
          "name": "stdout",
          "text": [
            "[200]\n"
          ]
        }
      ]
    },
    {
      "cell_type": "code",
      "source": [
        "# Pop: Remove por padrão o ultimo elemento da lista\n",
        "TesteCriaçao.pop()\n",
        "print(TesteCriaçao)"
      ],
      "metadata": {
        "id": "s9Dta7xUgjhU",
        "colab": {
          "base_uri": "https://localhost:8080/"
        },
        "outputId": "c0d1992a-8093-4ed3-b98e-230f2e4d4c51"
      },
      "execution_count": null,
      "outputs": [
        {
          "output_type": "stream",
          "name": "stdout",
          "text": [
            "[]\n"
          ]
        }
      ]
    },
    {
      "cell_type": "code",
      "source": [
        "# Pop: Caso seja informado um valor, o pop ira remover o conteudo no indice correspondente ao valor\n",
        "TesteCriaçao.append(22)\n",
        "TesteCriaçao = TesteCriaçao * 5\n",
        "TesteCriaçao.pop(3) # Remove o conteudo no indice 3\n",
        "print(TesteCriaçao)"
      ],
      "metadata": {
        "colab": {
          "base_uri": "https://localhost:8080/"
        },
        "id": "RaZJJRQ5h2oL",
        "outputId": "ea1a1c6d-058f-4302-b358-a7a082731454"
      },
      "execution_count": null,
      "outputs": [
        {
          "output_type": "stream",
          "name": "stdout",
          "text": [
            "[200, 200, 200, 200]\n"
          ]
        }
      ]
    },
    {
      "cell_type": "code",
      "source": [
        "# remove: Apaga o item declarado pelo parentese (primeira ocorrência)\n",
        "TesteCriaçao.append(500)\n",
        "TesteCriaçao.append(500)\n",
        "lixo = TesteCriaçao.remove(500)\n",
        "print(TesteCriaçao)"
      ],
      "metadata": {
        "colab": {
          "base_uri": "https://localhost:8080/"
        },
        "id": "cdpW3qXwiU3V",
        "outputId": "73ec785f-d2cb-424e-d4e1-f566abfd3131"
      },
      "execution_count": null,
      "outputs": [
        {
          "output_type": "stream",
          "name": "stdout",
          "text": [
            "[200, 200, 200, 200, 500]\n"
          ]
        }
      ]
    },
    {
      "cell_type": "code",
      "source": [
        "# help: Explica o que determinado método gera;\n",
        "help(list.remove)"
      ],
      "metadata": {
        "colab": {
          "base_uri": "https://localhost:8080/"
        },
        "id": "dk3_f7czjSSc",
        "outputId": "1c531fef-7e1e-4a18-f058-7ca1bd9b69ae"
      },
      "execution_count": null,
      "outputs": [
        {
          "output_type": "stream",
          "name": "stdout",
          "text": [
            "Help on method_descriptor:\n",
            "\n",
            "remove(self, value, /)\n",
            "    Remove first occurrence of value.\n",
            "    \n",
            "    Raises ValueError if the value is not present.\n",
            "\n"
          ]
        }
      ]
    },
    {
      "cell_type": "code",
      "source": [
        "# A lista 2 usará a outra lista como referência\n",
        "lista2 = TesteCriaçao "
      ],
      "metadata": {
        "id": "lyA_ZOusjZhM"
      },
      "execution_count": null,
      "outputs": []
    },
    {
      "cell_type": "code",
      "source": [
        "print(lista2)"
      ],
      "metadata": {
        "colab": {
          "base_uri": "https://localhost:8080/"
        },
        "id": "4oHCNRkxjuT0",
        "outputId": "1f00ccca-c319-4416-fbb0-4a8a4b1f3d32"
      },
      "execution_count": null,
      "outputs": [
        {
          "output_type": "stream",
          "name": "stdout",
          "text": [
            "[200, 200, 200, 200, 500]\n"
          ]
        }
      ]
    },
    {
      "cell_type": "code",
      "source": [
        "#clear: Apaga todos os elementos da lista\n",
        "TesteCriaçao.clear()\n",
        "print(TesteCriaçao)\n",
        "print(lista2)"
      ],
      "metadata": {
        "colab": {
          "base_uri": "https://localhost:8080/"
        },
        "id": "Pm-s_wLOjv90",
        "outputId": "dcd5ebc8-a66e-49a5-d193-fac80f70c0f3"
      },
      "execution_count": null,
      "outputs": [
        {
          "output_type": "stream",
          "name": "stdout",
          "text": [
            "[]\n",
            "[]\n"
          ]
        }
      ]
    },
    {
      "cell_type": "code",
      "source": [
        "#copy: Faz um clone da lista\n",
        "nome = 'Gustavo'\n",
        "TesteCriaçao = ['TADS', 2022, 1.5, 'x', nome]\n",
        "lista2 = TesteCriaçao.copy()\n",
        "TesteCriaçao.clear()\n",
        "print(TesteCriaçao)\n",
        "print(lista2)"
      ],
      "metadata": {
        "colab": {
          "base_uri": "https://localhost:8080/"
        },
        "id": "_UeEOhY_kMgc",
        "outputId": "b7aaef27-c048-4de7-c777-04b38710e77c"
      },
      "execution_count": null,
      "outputs": [
        {
          "output_type": "stream",
          "name": "stdout",
          "text": [
            "[]\n",
            "['TADS', 2022, 1.5, 'x', 'Gustavo']\n"
          ]
        }
      ]
    },
    {
      "cell_type": "code",
      "source": [
        "#Count: Realiza a contagem de ocorrências de um elemento\n",
        "print(lista2.count('x'))"
      ],
      "metadata": {
        "colab": {
          "base_uri": "https://localhost:8080/"
        },
        "id": "T6EjZyPIk01t",
        "outputId": "ff3b17d8-cd0f-473f-8015-27e72e09d955"
      },
      "execution_count": null,
      "outputs": [
        {
          "output_type": "stream",
          "name": "stdout",
          "text": [
            "1\n"
          ]
        }
      ]
    },
    {
      "cell_type": "code",
      "source": [
        "Naturais = [1,2,3]\n",
        "lista2.append(Naturais)#uma lista ficará dentro da outra\n",
        "print(lista2) "
      ],
      "metadata": {
        "colab": {
          "base_uri": "https://localhost:8080/"
        },
        "id": "2y4DIxXVlAQ9",
        "outputId": "07df28e0-664c-48c0-d1f4-081611f4ddf2"
      },
      "execution_count": null,
      "outputs": [
        {
          "output_type": "stream",
          "name": "stdout",
          "text": [
            "['TADS', 2022, 1.5, 'x', 'Gustavo', [1, 2, 3]]\n"
          ]
        }
      ]
    },
    {
      "cell_type": "code",
      "source": [
        "lista2.pop()"
      ],
      "metadata": {
        "colab": {
          "base_uri": "https://localhost:8080/"
        },
        "id": "7vGsQy6xlJNl",
        "outputId": "dce4a258-ed44-42f6-f1d8-d278164f629c"
      },
      "execution_count": null,
      "outputs": [
        {
          "output_type": "execute_result",
          "data": {
            "text/plain": [
              "[1, 2, 3]"
            ]
          },
          "metadata": {},
          "execution_count": 29
        }
      ]
    },
    {
      "cell_type": "code",
      "source": [
        "print(lista2) "
      ],
      "metadata": {
        "colab": {
          "base_uri": "https://localhost:8080/"
        },
        "id": "h-XLDz8ifPen",
        "outputId": "50ce3e41-b6d4-4d27-e928-0cb448201e49"
      },
      "execution_count": null,
      "outputs": [
        {
          "output_type": "stream",
          "name": "stdout",
          "text": [
            "['TADS', 2022, 1.5, 'x', 'Gustavo']\n"
          ]
        }
      ]
    },
    {
      "cell_type": "code",
      "source": [
        "#extend: adiciona os itens de uma lista na outra\n",
        "lista2.extend(Alunos)\n",
        "print(lista2)"
      ],
      "metadata": {
        "colab": {
          "base_uri": "https://localhost:8080/"
        },
        "id": "ZoFMAX55gLRW",
        "outputId": "e72dafb9-924c-47db-c8a2-8de26ee01fc5"
      },
      "execution_count": null,
      "outputs": [
        {
          "output_type": "stream",
          "name": "stdout",
          "text": [
            "['TADS', 2022, 1.5, 'x', 'Gustavo', 'George', 'Luan', 'Yure', 'Enuch', 'Gustavo', 'George', 'Luan', 'Yure', 'Enuch', 'Gustavo', 'George', 'Luan', 'Yure', 'Enuch', 'Gustavo', 'George', 'Luan', 'Yure', 'Enuch', 'Gustavo']\n"
          ]
        }
      ]
    },
    {
      "cell_type": "markdown",
      "source": [
        "##Listas Aninhadas"
      ],
      "metadata": {
        "id": "7tD4mQTTghsX"
      }
    },
    {
      "cell_type": "markdown",
      "metadata": {
        "id": "KwYb0oqoElgc"
      },
      "source": [
        "Característica das estruturas de dados do Python que permite que estruturas suportem outras estruturas se denomina **aninhamento**. Por exemplo: uma lista dentro de uma lista."
      ]
    },
    {
      "cell_type": "code",
      "source": [
        "# Começamos com 3 listas\n",
        "lst_1=[1,2,3]\n",
        "lst_2=[4,5,6]\n",
        "lst_3=[7,8,9]\n",
        "\n",
        "# Faça uma lista de listas para formar uma matriz\n",
        "matrix = [lst_1,lst_2,lst_3]\n",
        "\n",
        "print(matrix)"
      ],
      "metadata": {
        "colab": {
          "base_uri": "https://localhost:8080/"
        },
        "id": "3CqlUblnglk_",
        "outputId": "598abcec-037f-4f5d-e725-1f6734a466bd"
      },
      "execution_count": null,
      "outputs": [
        {
          "output_type": "stream",
          "name": "stdout",
          "text": [
            "[[1, 2, 3], [4, 5, 6], [7, 8, 9]]\n"
          ]
        }
      ]
    },
    {
      "cell_type": "code",
      "source": [
        "# O primeiro indice significa a linha da matriz\n",
        "# O segundo indice representa a coluna\n",
        "print(matrix[0]) # retorna todas os elementos daquela linha independente da coluna\n",
        "print(matrix[0][0]) # Retorna o elemento naquela coordenada"
      ],
      "metadata": {
        "colab": {
          "base_uri": "https://localhost:8080/"
        },
        "id": "IYKIJRVNhNco",
        "outputId": "dc86f319-7fa9-4a90-e43b-cc492a1a8506"
      },
      "execution_count": null,
      "outputs": [
        {
          "output_type": "stream",
          "name": "stdout",
          "text": [
            "[1, 2, 3]\n",
            "1\n"
          ]
        }
      ]
    },
    {
      "cell_type": "markdown",
      "source": [
        "## Compreensão de Listas"
      ],
      "metadata": {
        "id": "MEpdWTAdhz0n"
      }
    },
    {
      "cell_type": "markdown",
      "source": [
        "Fonte: https://docs.python.org/3.7/tutorial/datastructures.html#tut-listcomps\n",
        "\n",
        "Além das operações de sequência e métodos de lista, o Python inclui uma operação mais avançada chamada de compreensão de lista.\n",
        "\n",
        "As compreensões de lista nos permitem construir listas usando uma notação diferente. Você pode pensar nisso essencialmente como um loop construído dentro de colchetes."
      ],
      "metadata": {
        "id": "k_LPeM5xh37f"
      }
    },
    {
      "cell_type": "code",
      "source": [
        "# Crie uma lista de compreensão desconstruindo um loop for dentro de um []\n",
        "# Row = Linha (Linhas da matriz)\n",
        "first_col = [row[0] for row in matrix] # Seleciona o Elemento 0 de cada Linha da Matriz\n",
        "print(first_col)"
      ],
      "metadata": {
        "colab": {
          "base_uri": "https://localhost:8080/"
        },
        "id": "LVpy1emliB7f",
        "outputId": "a1df71c7-d43d-4ce7-91df-383032807bbf"
      },
      "execution_count": null,
      "outputs": [
        {
          "output_type": "stream",
          "name": "stdout",
          "text": [
            "[1, 4, 7]\n"
          ]
        }
      ]
    },
    {
      "cell_type": "markdown",
      "source": [
        "##Função Range (Intervalo)"
      ],
      "metadata": {
        "id": "_I0t951Iinbw"
      }
    },
    {
      "cell_type": "markdown",
      "source": [
        "Fonte: https://docs.python.org/3.7/library/stdtypes.html#range\n",
        "\n",
        "A função range é uma função geradora, capaz de retornar valores dentro de um limite definido para um iterável\n",
        "\n",
        "range(10): gera valores de 0 a 9\n",
        "\n",
        "range(45,55): gera valores de 45 a 54\n",
        "\n",
        "range(0, 10, 2): gera valores de 0 a 9 de 2 em 2"
      ],
      "metadata": {
        "id": "DE57kOJuiqYI"
      }
    },
    {
      "cell_type": "code",
      "source": [
        "# Eleva o quadrado itens no range e o transformam em lista\n",
        "lst = [x**2 for x in range(1,11)]\n",
        "print(lst)"
      ],
      "metadata": {
        "colab": {
          "base_uri": "https://localhost:8080/"
        },
        "id": "X1OF5biWix7Y",
        "outputId": "56c8cdaf-ee45-4e02-ed9b-89419b8b3b27"
      },
      "execution_count": null,
      "outputs": [
        {
          "output_type": "stream",
          "name": "stdout",
          "text": [
            "[1, 4, 9, 16, 25, 36, 49, 64, 81, 100]\n"
          ]
        }
      ]
    },
    {
      "cell_type": "code",
      "source": [
        "# Vá de 0 a 10 caminhando de 2 em 2 - Retorna os números pares\n",
        "lst = [x for x in range(0, 10, 2)]\n",
        "print(lst)"
      ],
      "metadata": {
        "colab": {
          "base_uri": "https://localhost:8080/"
        },
        "id": "685zFmbJi5Xf",
        "outputId": "54b6fd5e-5915-4d9c-ba72-8a9dd25b7ecc"
      },
      "execution_count": null,
      "outputs": [
        {
          "output_type": "stream",
          "name": "stdout",
          "text": [
            "[0, 2, 4, 6, 8]\n"
          ]
        }
      ]
    },
    {
      "cell_type": "code",
      "source": [
        "lst = [x**2 for x in range(1,11) if x % 2 == 0]\n",
        "print(lst)"
      ],
      "metadata": {
        "colab": {
          "base_uri": "https://localhost:8080/"
        },
        "id": "r2oPc1xjjHsf",
        "outputId": "a6d6ca1c-3121-4c74-b093-a50a80e6971a"
      },
      "execution_count": null,
      "outputs": [
        {
          "output_type": "stream",
          "name": "stdout",
          "text": [
            "[4, 16, 36, 64, 100]\n"
          ]
        }
      ]
    },
    {
      "cell_type": "markdown",
      "source": [
        "#Tuplas (Lista Imutaveis)"
      ],
      "metadata": {
        "id": "cNc5Zu2MjOsv"
      }
    },
    {
      "cell_type": "markdown",
      "source": [
        "Em Python, as tuplas são muito semelhantes às listas, no entanto, ao contrário das listas, elas são imutáveis, o que significa que elas não podem ser alteradas.\n",
        "\n",
        "Você usaria tuplas para apresentar coisas que não deveriam ser alteradas, como dias da semana ou datas em um calendário."
      ],
      "metadata": {
        "id": "9J68kXdYjTQn"
      }
    },
    {
      "cell_type": "code",
      "source": [
        "# Pode-se criar uma tupla com múltiplos elementos\n",
        "t = (1,2,3)\n",
        "# Você também pode variar os tipos de dados\n",
        "t = ('one',2)\n",
        "type(t)"
      ],
      "metadata": {
        "colab": {
          "base_uri": "https://localhost:8080/"
        },
        "id": "2V2bMGSdjXC_",
        "outputId": "84200877-a2fc-4524-d8ce-be00cc8d2c0e"
      },
      "execution_count": null,
      "outputs": [
        {
          "output_type": "execute_result",
          "data": {
            "text/plain": [
              "tuple"
            ]
          },
          "metadata": {},
          "execution_count": 44
        }
      ]
    },
    {
      "cell_type": "code",
      "source": [
        "# A indexação funciona exatamente como nas listas\n",
        "print(t[0])"
      ],
      "metadata": {
        "colab": {
          "base_uri": "https://localhost:8080/"
        },
        "id": "Dm_N-6x0jZTv",
        "outputId": "347a7a78-229b-4794-e24d-8dc961bd5d1a"
      },
      "execution_count": null,
      "outputs": [
        {
          "output_type": "stream",
          "name": "stdout",
          "text": [
            "one\n"
          ]
        }
      ]
    },
    {
      "cell_type": "code",
      "source": [
        "print(t[-1])"
      ],
      "metadata": {
        "colab": {
          "base_uri": "https://localhost:8080/"
        },
        "id": "CihMxRrajj-w",
        "outputId": "cfda17b5-7a9a-4626-ab2d-f6369933cbee"
      },
      "execution_count": null,
      "outputs": [
        {
          "output_type": "stream",
          "name": "stdout",
          "text": [
            "2\n"
          ]
        }
      ]
    },
    {
      "cell_type": "markdown",
      "source": [
        "##Métodos de Tuplas"
      ],
      "metadata": {
        "id": "2NGmdgCjjnIX"
      }
    },
    {
      "cell_type": "code",
      "source": [
        "t.count('one')"
      ],
      "metadata": {
        "colab": {
          "base_uri": "https://localhost:8080/"
        },
        "id": "1f6i3lzyjqgH",
        "outputId": "7c350064-2c44-4b6c-9b58-a700219c8b16"
      },
      "execution_count": null,
      "outputs": [
        {
          "output_type": "execute_result",
          "data": {
            "text/plain": [
              "1"
            ]
          },
          "metadata": {},
          "execution_count": 50
        }
      ]
    },
    {
      "cell_type": "code",
      "source": [
        "t.index(2)"
      ],
      "metadata": {
        "colab": {
          "base_uri": "https://localhost:8080/"
        },
        "id": "S9bVf_i_kL8g",
        "outputId": "1c96fb7a-bb25-4d97-e33e-13d931ff8408"
      },
      "execution_count": null,
      "outputs": [
        {
          "output_type": "execute_result",
          "data": {
            "text/plain": [
              "1"
            ]
          },
          "metadata": {},
          "execution_count": 51
        }
      ]
    },
    {
      "cell_type": "markdown",
      "source": [
        "##Imutabilidade"
      ],
      "metadata": {
        "id": "3dEksPcNkcP4"
      }
    },
    {
      "cell_type": "code",
      "source": [
        "t[0]= 'change'"
      ],
      "metadata": {
        "colab": {
          "base_uri": "https://localhost:8080/",
          "height": 165
        },
        "id": "nqmJvo1nkg0r",
        "outputId": "3ba572ba-6320-4d1a-e5db-b92594c290e3"
      },
      "execution_count": null,
      "outputs": [
        {
          "output_type": "error",
          "ename": "TypeError",
          "evalue": "ignored",
          "traceback": [
            "\u001b[0;31m---------------------------------------------------------------------------\u001b[0m",
            "\u001b[0;31mTypeError\u001b[0m                                 Traceback (most recent call last)",
            "\u001b[0;32m<ipython-input-52-1257c0aa9edd>\u001b[0m in \u001b[0;36m<module>\u001b[0;34m()\u001b[0m\n\u001b[0;32m----> 1\u001b[0;31m \u001b[0mt\u001b[0m\u001b[0;34m[\u001b[0m\u001b[0;36m0\u001b[0m\u001b[0;34m]\u001b[0m\u001b[0;34m=\u001b[0m \u001b[0;34m'change'\u001b[0m\u001b[0;34m\u001b[0m\u001b[0;34m\u001b[0m\u001b[0m\n\u001b[0m",
            "\u001b[0;31mTypeError\u001b[0m: 'tuple' object does not support item assignment"
          ]
        }
      ]
    },
    {
      "cell_type": "markdown",
      "source": [
        "# Sets(Conjuntos)"
      ],
      "metadata": {
        "id": "fNbRwlZ2mTKV"
      }
    },
    {
      "cell_type": "markdown",
      "source": [
        "Fonte: https://docs.python.org/3.7/library/stdtypes.html#set-types-set-frozenset\n",
        "\n",
        "Os conjuntos são uma **coleção não ordenada de elementos únicos**. Podemos construí-los usando a função set().\n",
        "\n",
        "Os usos comuns incluem teste de associação, remoção de duplicatas de uma sequência e computação de operações matemáticas como interseção, união, diferença e diferença simétrica."
      ],
      "metadata": {
        "id": "UDrlrt3Zkl-Q"
      }
    },
    {
      "cell_type": "code",
      "source": [
        "#Intanciando objetos dentro de um conjunto\n",
        "conjunto = {98,54,2,2,3,'Gustavo', True}\n",
        "print(conjunto)"
      ],
      "metadata": {
        "colab": {
          "base_uri": "https://localhost:8080/"
        },
        "id": "eYH2ZFNPlqy9",
        "outputId": "9abe710f-ee08-4f7f-ec7e-53e03ff8ad80"
      },
      "execution_count": null,
      "outputs": [
        {
          "output_type": "stream",
          "name": "stdout",
          "text": [
            "{True, 98, 3, 2, 'Gustavo', 54}\n"
          ]
        }
      ]
    },
    {
      "cell_type": "code",
      "source": [
        "type(conjunto)"
      ],
      "metadata": {
        "colab": {
          "base_uri": "https://localhost:8080/"
        },
        "id": "7TYwlzfEl0qQ",
        "outputId": "d57505dd-ba82-4b2c-db30-19d50f1bf951"
      },
      "execution_count": null,
      "outputs": [
        {
          "output_type": "execute_result",
          "data": {
            "text/plain": [
              "set"
            ]
          },
          "metadata": {},
          "execution_count": 57
        }
      ]
    },
    {
      "cell_type": "code",
      "source": [
        "#Criando novo conjunto\n",
        "conjunto2 = set()"
      ],
      "metadata": {
        "id": "VgPxzyxml2ug"
      },
      "execution_count": null,
      "outputs": []
    },
    {
      "cell_type": "code",
      "source": [
        "#Adicionando elemento\n",
        "conjunto2.add(978)\n",
        "print(conjunto2)"
      ],
      "metadata": {
        "colab": {
          "base_uri": "https://localhost:8080/"
        },
        "id": "GOdoJUdCmDah",
        "outputId": "b9d7b4b8-5697-4141-f84d-684874d27cf0"
      },
      "execution_count": null,
      "outputs": [
        {
          "output_type": "stream",
          "name": "stdout",
          "text": [
            "{978}\n"
          ]
        }
      ]
    },
    {
      "cell_type": "code",
      "source": [
        "#Em um conjunto não há elementos repetidos\n",
        "nlista = [1,1,2,2,3,4,4,5,6,6]\n",
        "nconjunto = set(nlista)\n",
        "print(nconjunto)"
      ],
      "metadata": {
        "colab": {
          "base_uri": "https://localhost:8080/"
        },
        "id": "LA6_vbG8mKoI",
        "outputId": "3e964b2b-f025-41ce-c3c7-b2b7d0d196d0"
      },
      "execution_count": null,
      "outputs": [
        {
          "output_type": "stream",
          "name": "stdout",
          "text": [
            "{1, 2, 3, 4, 5, 6}\n"
          ]
        }
      ]
    },
    {
      "cell_type": "markdown",
      "source": [
        "#Dicionário"
      ],
      "metadata": {
        "id": "Cor9OKpsmU5x"
      }
    },
    {
      "cell_type": "markdown",
      "source": [
        "Fonte: https://docs.python.org/3.7/library/stdtypes.html#typesmapping\n",
        "\n",
        "Se Strings e listas são sequências em Python. Pode pensar nestes Dicionários como tabelas de hash.\n",
        "\n",
        "Em Python chamasse ***Mapeamento*** uma coleção de objetos que são armazenados por uma chave, ao contrário de uma sequência que armazena objetos por sua posição relativa. \n",
        "\n",
        "Esta é uma distinção importante, uma vez que **os mapeamentos não reterão a ordem, pois possuem objetos definidos por uma chave.**\n",
        "\n",
        "Um dicionário de Python consiste em uma chave e depois em um valor associado. Esse valor pode ser quase qualquer objeto Python."
      ],
      "metadata": {
        "id": "sb6OvSXNmefp"
      }
    },
    {
      "cell_type": "code",
      "source": [
        "df = {'nome': 'Alexandre O Grande', 'curso': 'Historia', 'Periodo atual': 4}\n",
        "print(df)"
      ],
      "metadata": {
        "colab": {
          "base_uri": "https://localhost:8080/"
        },
        "id": "sG63ghGImSvY",
        "outputId": "894d7828-ab9f-4e39-b8d3-d2aac5e7e045"
      },
      "execution_count": null,
      "outputs": [
        {
          "output_type": "stream",
          "name": "stdout",
          "text": [
            "{'nome': 'Alexandre O Grande', 'curso': 'Historia', 'Periodo atual': 4}\n"
          ]
        }
      ]
    },
    {
      "cell_type": "code",
      "source": [
        "df['nome'] = 'Gustavo Maciel'\n",
        "print(df)"
      ],
      "metadata": {
        "colab": {
          "base_uri": "https://localhost:8080/"
        },
        "id": "A-yE92EpnK1h",
        "outputId": "3af7e2f0-2279-4078-896e-49345297ac9a"
      },
      "execution_count": null,
      "outputs": [
        {
          "output_type": "stream",
          "name": "stdout",
          "text": [
            "{'nome': 'Gustavo Maciel', 'curso': 'TADS', 'Periodo atual': 4}\n"
          ]
        }
      ]
    },
    {
      "cell_type": "code",
      "source": [
        "df['curso'] = 'TADS'\n",
        "print(df)"
      ],
      "metadata": {
        "colab": {
          "base_uri": "https://localhost:8080/"
        },
        "id": "itlApyENna8i",
        "outputId": "b68f12b4-5e72-4c6e-b0a5-ac4a7f69046c"
      },
      "execution_count": null,
      "outputs": [
        {
          "output_type": "stream",
          "name": "stdout",
          "text": [
            "{'nome': 'Gustavo Maciel', 'curso': 'TADS', 'Periodo atual': 4}\n"
          ]
        }
      ]
    },
    {
      "cell_type": "code",
      "source": [
        "df['campus'] = 'Macaiba'\n",
        "print(df)"
      ],
      "metadata": {
        "colab": {
          "base_uri": "https://localhost:8080/"
        },
        "id": "HMP61FypnpKk",
        "outputId": "9e86fbf2-38e6-44f7-f280-18243d1b1f40"
      },
      "execution_count": null,
      "outputs": [
        {
          "output_type": "stream",
          "name": "stdout",
          "text": [
            "{'nome': 'Gustavo Maciel', 'curso': 'TADS', 'Periodo atual': 4, 'campus': 'Macaiba'}\n"
          ]
        }
      ]
    },
    {
      "cell_type": "markdown",
      "source": [
        "##Métodos de Dicionários"
      ],
      "metadata": {
        "id": "BmAzV-EPnv5Z"
      }
    },
    {
      "cell_type": "code",
      "source": [
        "#Keys: Retorna os atributos da variáveis\n",
        "print(df.keys())"
      ],
      "metadata": {
        "colab": {
          "base_uri": "https://localhost:8080/"
        },
        "id": "zXvvg5Zynt2J",
        "outputId": "0bbe16a3-e501-4f22-daa3-4fd6e3bcda36"
      },
      "execution_count": null,
      "outputs": [
        {
          "output_type": "stream",
          "name": "stdout",
          "text": [
            "dict_keys(['nome', 'curso', 'Periodo atual', 'campus'])\n"
          ]
        }
      ]
    },
    {
      "cell_type": "code",
      "source": [
        "print(df.values())"
      ],
      "metadata": {
        "colab": {
          "base_uri": "https://localhost:8080/"
        },
        "id": "_DYqsCw6n9v5",
        "outputId": "f0af46f9-80a2-413c-af2c-3bc11abaf639"
      },
      "execution_count": null,
      "outputs": [
        {
          "output_type": "stream",
          "name": "stdout",
          "text": [
            "dict_values(['Gustavo Maciel', 'TADS', 4, 'Macaiba'])\n"
          ]
        }
      ]
    },
    {
      "cell_type": "code",
      "source": [
        "print(df.items())"
      ],
      "metadata": {
        "colab": {
          "base_uri": "https://localhost:8080/"
        },
        "id": "1NL__VIwoDBB",
        "outputId": "6af125dd-c208-4a24-8195-7d94fe4e8348"
      },
      "execution_count": null,
      "outputs": [
        {
          "output_type": "stream",
          "name": "stdout",
          "text": [
            "dict_items([('nome', 'Gustavo Maciel'), ('curso', 'TADS'), ('Periodo atual', 4), ('campus', 'Macaiba')])\n"
          ]
        }
      ]
    },
    {
      "cell_type": "code",
      "source": [
        "#Apaga o ultimo elemento do dicionario\n",
        "print(df.popitem())"
      ],
      "metadata": {
        "colab": {
          "base_uri": "https://localhost:8080/"
        },
        "id": "7HGNxxOMoIVJ",
        "outputId": "42100130-2c6e-4152-b11c-8a103b696127"
      },
      "execution_count": null,
      "outputs": [
        {
          "output_type": "stream",
          "name": "stdout",
          "text": [
            "('campus', 'Macaiba')\n"
          ]
        }
      ]
    },
    {
      "cell_type": "code",
      "source": [
        "print(df)"
      ],
      "metadata": {
        "colab": {
          "base_uri": "https://localhost:8080/"
        },
        "id": "kvw22FFqon5a",
        "outputId": "3dccdde9-f14c-467e-8518-4056692ecdf3"
      },
      "execution_count": null,
      "outputs": [
        {
          "output_type": "stream",
          "name": "stdout",
          "text": [
            "{'nome': 'Gustavo Maciel', 'curso': 'TADS', 'Periodo atual': 4}\n"
          ]
        }
      ]
    },
    {
      "cell_type": "code",
      "source": [
        "#Apaga o atributo e todos os elementos vinculados a ele\n",
        "print(df.pop('nome'))"
      ],
      "metadata": {
        "colab": {
          "base_uri": "https://localhost:8080/"
        },
        "id": "G8RiRsv_ovpx",
        "outputId": "d2546511-794c-4e56-f648-d88ff8df550f"
      },
      "execution_count": null,
      "outputs": [
        {
          "output_type": "stream",
          "name": "stdout",
          "text": [
            "Gustavo Maciel\n"
          ]
        }
      ]
    },
    {
      "cell_type": "code",
      "source": [
        "print(df)"
      ],
      "metadata": {
        "colab": {
          "base_uri": "https://localhost:8080/"
        },
        "id": "aBmW-Dd0o7q6",
        "outputId": "e7958e55-1720-4642-cb38-574679e181e0"
      },
      "execution_count": null,
      "outputs": [
        {
          "output_type": "stream",
          "name": "stdout",
          "text": [
            "{'curso': 'TADS', 'Periodo atual': 4}\n"
          ]
        }
      ]
    },
    {
      "cell_type": "code",
      "source": [
        "dic = {'animais': ['gato', 'cachorro'], 'numero':[1,2,3], 'senha': 123}\n",
        "print(dic)"
      ],
      "metadata": {
        "colab": {
          "base_uri": "https://localhost:8080/"
        },
        "id": "z9gA9QdypDSK",
        "outputId": "a8bf0f5e-9d99-40df-dfdb-169154f63e37"
      },
      "execution_count": null,
      "outputs": [
        {
          "output_type": "stream",
          "name": "stdout",
          "text": [
            "{'animais': ['gato', 'cachorro'], 'numero': [1, 2, 3], 'senha': 123}\n"
          ]
        }
      ]
    },
    {
      "cell_type": "code",
      "source": [
        "dic['numerosinteiros'] = dic.pop('numero')\n",
        "print(dic)"
      ],
      "metadata": {
        "colab": {
          "base_uri": "https://localhost:8080/"
        },
        "id": "QBl_RXY9pF6h",
        "outputId": "03077476-e761-4b12-b7aa-4826ca9f4aa4"
      },
      "execution_count": null,
      "outputs": [
        {
          "output_type": "stream",
          "name": "stdout",
          "text": [
            "{'animais': ['gato', 'cachorro'], 'senha': 123, 'numerosinteiros': [1, 2, 3]}\n"
          ]
        }
      ]
    },
    {
      "cell_type": "code",
      "source": [
        "print(dic['animais'][1])"
      ],
      "metadata": {
        "colab": {
          "base_uri": "https://localhost:8080/"
        },
        "id": "hvQ1Tnc2pHrJ",
        "outputId": "41eea533-3e4b-48ab-91db-aa5fc5c59d40"
      },
      "execution_count": null,
      "outputs": [
        {
          "output_type": "stream",
          "name": "stdout",
          "text": [
            "cachorro\n"
          ]
        }
      ]
    }
  ]
}