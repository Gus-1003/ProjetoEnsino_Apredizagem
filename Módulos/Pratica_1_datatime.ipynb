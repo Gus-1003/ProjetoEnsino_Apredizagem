{
  "nbformat": 4,
  "nbformat_minor": 0,
  "metadata": {
    "colab": {
      "name": "Pratica_1_datatime.ipynb",
      "provenance": [],
      "toc_visible": true,
      "authorship_tag": "ABX9TyNr0c0K0JpvH99xnv+NoL3/",
      "include_colab_link": true
    },
    "kernelspec": {
      "name": "python3",
      "display_name": "Python 3"
    },
    "language_info": {
      "name": "python"
    }
  },
  "cells": [
    {
      "cell_type": "markdown",
      "metadata": {
        "id": "view-in-github",
        "colab_type": "text"
      },
      "source": [
        "<a href=\"https://colab.research.google.com/github/Gus-1003/Python_Experimentos/blob/main/M%C3%B3dulos/Pratica_1_datatime.ipynb\" target=\"_parent\"><img src=\"https://colab.research.google.com/assets/colab-badge.svg\" alt=\"Open In Colab\"/></a>"
      ]
    },
    {
      "cell_type": "markdown",
      "source": [
        "# Datatime"
      ],
      "metadata": {
        "id": "2bwIq5eGVKDN"
      }
    },
    {
      "cell_type": "markdown",
      "source": [
        "## Informações sobre o notebook:"
      ],
      "metadata": {
        "id": "gs67Ngb5e2XG"
      }
    },
    {
      "cell_type": "markdown",
      "source": [
        "### Link das páginas utilizadas:\n",
        "\n",
        "Documentação: https://docs.python.org/pt-br/3/library/datetime.html\n",
        "\n",
        "Fontes de referencia:\n",
        "*  geeksforgeeks = https://www.geeksforgeeks.org/basic-datetime-operations-in-python/\n",
        "*  w3schools = https://www.w3schools.com/python/python_datetime.asp"
      ],
      "metadata": {
        "id": "59luW56XWJ87"
      }
    },
    {
      "cell_type": "markdown",
      "source": [
        "### Introdução ao modulo:\n",
        "\n",
        "*   O módulo datetime fornece as classes para manipulação de datas e horas.\n",
        "*   O foco da implementação é na extração eficiente do atributo para formatação da saída e manipulação.\n",
        "\n",
        "*   Operações aritméticas de data e hora são suportadas\n",
        "\n"
      ],
      "metadata": {
        "id": "jcrUIg6XWTjS"
      }
    },
    {
      "cell_type": "markdown",
      "source": [
        "### Classes desse modulo:\n",
        "Existem seis classes de objetos principais com seus respectivos componentes no módulo de datação mencionado abaixo:\n",
        "\n",
        "*  datatime.date\n",
        "*  datatempo.hora\n",
        "*  datatime.datetime\n",
        "*  datatime.tzinfo\n",
        "*  datatime.timedelta\n",
        "*  datatime.timezone"
      ],
      "metadata": {
        "id": "twGplsjpecH-"
      }
    },
    {
      "cell_type": "markdown",
      "source": [
        "## Celula Obrigatoria:"
      ],
      "metadata": {
        "id": "ExEliZDkYatZ"
      }
    },
    {
      "cell_type": "code",
      "source": [
        "# Importando o modulo datatime\n",
        "from datetime import datetime"
      ],
      "metadata": {
        "id": "jhsrnMJyYXEK"
      },
      "execution_count": 32,
      "outputs": []
    },
    {
      "cell_type": "markdown",
      "source": [
        "## Praticas:"
      ],
      "metadata": {
        "id": "3yt2TCFsYeSp"
      }
    },
    {
      "cell_type": "markdown",
      "source": [
        "### Objetos Datetime"
      ],
      "metadata": {
        "id": "s2h0ESUTYl56"
      }
    },
    {
      "cell_type": "markdown",
      "source": [
        "***Criando objetos:***\n",
        "\n",
        "Para criar uma data, podemos usar a classe (construtora) do módulo.datetime()datetime\n",
        "\n",
        "A objeto requer três parâmetros para criar uma data: \n",
        "1.   ano\n",
        "2.   mês\n",
        "3.   dia\n",
        "\n",
        "Um argumento opicional é caso deseje o fuso-horario: \n",
        "(hora, minuto, segundo, microssegundo, tzone)\n",
        "\n"
      ],
      "metadata": {
        "id": "V_KAat-YcAo3"
      }
    },
    {
      "cell_type": "markdown",
      "source": [
        "***Método strftime():***\n",
        "\n",
        "fonte: https://www.w3schools.com/python/python_datetime.asp\n",
        "\n",
        "O objeto tem um método para formatar objetos de data em sequências legíveis.datetime\n",
        "\n",
        "O método é chamado , e leva um parâmetro, para especificar o formato da sequência retornada:\n",
        "> strftime()\n",
        "\n",
        "Parametros comuns:\n",
        "* strftime (\"%d\") dá o dia atual\n",
        "* strftime (\"%m\") dá mês atual\n",
        "* strftime (\"%Y\") dá ano atual\n",
        "* strftime (\"%H:%M:%S\") dá tempo atual em uma hora, minuto e segundo formato\n",
        "* strftime (\"%m/%d/%Y, %H:%M:%S\") dá data e tempo juntos\n",
        "\n"
      ],
      "metadata": {
        "id": "u5dEHaWxdPNY"
      }
    },
    {
      "cell_type": "code",
      "execution_count": 33,
      "metadata": {
        "colab": {
          "base_uri": "https://localhost:8080/"
        },
        "id": "rTwosuXOUASO",
        "outputId": "62cc676c-b234-4f00-c0e7-850da833cfae"
      },
      "outputs": [
        {
          "output_type": "stream",
          "name": "stdout",
          "text": [
            "datetime.datetime(2022, 3, 4, 16, 15, 20)\n",
            "2022-03-04 16:15:20\n",
            "Fri Mar  4 16:15:20 2022\n",
            "2022\n",
            "Friday\n"
          ]
        }
      ],
      "source": [
        "a = datetime(2022, 3, 4, 16, 15, 20)\n",
        "\n",
        "print(repr(a))\n",
        "\n",
        "# Retorna a data já formatada:\n",
        "print(a)\n",
        "\n",
        "print(a.ctime())\n",
        "\n",
        "# Retorna o Ano:\n",
        "print(a.year)\n",
        "\n",
        "# Retorna uma string de acordo com o parametro passado (A = dia da semana - nome completo):\n",
        "print(a.strftime(\"%A\"))"
      ]
    },
    {
      "cell_type": "code",
      "source": [
        "# Exiba a data atual:\n",
        "b = datetime.now()\n",
        "\n",
        "# A data contém ano, mês, dia, hora, minuto, segundo e microssegundo.\n",
        "print(b)\n"
      ],
      "metadata": {
        "colab": {
          "base_uri": "https://localhost:8080/"
        },
        "id": "X7O-yvPVXgBW",
        "outputId": "9c34a801-8459-405b-8715-925ac5d14e9e"
      },
      "execution_count": 34,
      "outputs": [
        {
          "output_type": "stream",
          "name": "stdout",
          "text": [
            "2022-03-04 20:36:09.506666\n"
          ]
        }
      ]
    },
    {
      "cell_type": "code",
      "source": [
        "c = datetime.utcnow()\n",
        "print(c)"
      ],
      "metadata": {
        "colab": {
          "base_uri": "https://localhost:8080/"
        },
        "id": "P9yc4GldX9_a",
        "outputId": "192f9cbc-6ae9-4d4a-f2e4-aae3ee1d8e10"
      },
      "execution_count": 35,
      "outputs": [
        {
          "output_type": "stream",
          "name": "stdout",
          "text": [
            "2022-03-04 20:36:13.721050\n"
          ]
        }
      ]
    },
    {
      "cell_type": "markdown",
      "source": [
        "### Extraindo dados a partir de um objeto datetime:"
      ],
      "metadata": {
        "id": "oiULPrEGYq-g"
      }
    },
    {
      "cell_type": "code",
      "source": [
        "a = datetime.now()\n",
        "print(a)\n",
        "\n",
        "b = a.date() # Ano ; més e dia\n",
        "print(b)\n",
        "\n",
        "c = a.time() # Horas; minutos e segundos\n",
        "print(c)"
      ],
      "metadata": {
        "colab": {
          "base_uri": "https://localhost:8080/"
        },
        "id": "L9ynxwVaY8Va",
        "outputId": "abbe60c7-bb33-4342-d3eb-18f8288399f2"
      },
      "execution_count": 36,
      "outputs": [
        {
          "output_type": "stream",
          "name": "stdout",
          "text": [
            "2022-03-04 20:36:18.817120\n",
            "2022-03-04\n",
            "20:36:18.817120\n"
          ]
        }
      ]
    },
    {
      "cell_type": "markdown",
      "source": [
        "### Classe data:\n"
      ],
      "metadata": {
        "id": "BA7gLZ21ZdCB"
      }
    },
    {
      "cell_type": "markdown",
      "source": [
        "data.data():\n",
        "Podemos gerar objetos de data da aula de data. Um objeto de data representa uma data com um ano, mês e dia.\n",
        "\n",
        "Sintaxe:data.data(ano, mês, dia)"
      ],
      "metadata": {
        "id": "cOwJXC7_gCZv"
      }
    },
    {
      "cell_type": "code",
      "source": [
        "from datetime import date"
      ],
      "metadata": {
        "id": "3rtZC4mlZ-5I"
      },
      "execution_count": 39,
      "outputs": []
    },
    {
      "cell_type": "code",
      "source": [
        "# Instanciando um objeto da classe date\n",
        "d1 = date(2022, 5, 27)\n",
        "\n",
        "# Trocando os valores do mês e do dia\n",
        "d2 = d1.replace(month=3, day=10)\n",
        "\n",
        "# Trocando o valor do dia\n",
        "d3 = d2.replace(day=4)\n",
        "\n",
        "print(d1)\n",
        "print(d2)\n",
        "print(d3)\n",
        "\n"
      ],
      "metadata": {
        "colab": {
          "base_uri": "https://localhost:8080/"
        },
        "id": "JEvHpMM3Z6XJ",
        "outputId": "6ed4240e-7a45-436a-cae2-2d7bb22fb6fb"
      },
      "execution_count": 40,
      "outputs": [
        {
          "output_type": "stream",
          "name": "stdout",
          "text": [
            "2022-05-27\n",
            "2022-03-10\n",
            "2022-03-04\n"
          ]
        }
      ]
    },
    {
      "cell_type": "markdown",
      "source": [
        "### Operações com datas (Classes timedelta e datetime)"
      ],
      "metadata": {
        "id": "Ina6jP6boKxx"
      }
    },
    {
      "cell_type": "markdown",
      "source": [
        "datatime.timedelta():\n",
        "\n",
        "Ele mostra uma duração que expressa a diferença entre duas instâncias de data, hora ou data-hora para resolução microssegundo.\n",
        "\n",
        "Aqui implementamos algumas funções básicas e imprimemos dias passados e futuros. \n",
        "\n",
        "Além disso, vamos imprimir alguns outros atributos de timedelta:\n",
        "* max; \n",
        "* min; \n",
        "* resolução que mostram dias e tempo máximos; \n",
        "* data e hora mínimas;\n",
        "* menor diferença possível entre objetos timedelta não iguais; respectivamente; \n",
        "\n",
        "Aqui também aplicaremos algumas operações aritméticas em duas datas e horários diferentes."
      ],
      "metadata": {
        "id": "xEUhpEt0oZU5"
      }
    },
    {
      "cell_type": "code",
      "source": [
        "from datetime import timedelta\n",
        "\n",
        "Data_atual = datetime.now()\n",
        " \n",
        "print(\"Data atual: \", Data_atual)\n",
        " \n",
        "# Contagem de 10 dias após a data atual\n",
        "dez_dias_depois = Data_atual + timedelta(days = 10)\n",
        "print('Data daqui a 10 dias:',dez_dias_depois)\n",
        " \n",
        "# Contagem dos 10 dias anteriores a data atual\n",
        "dez_dias_antes = Data_atual - timedelta(days = 10)\n",
        "print('Data de 10 dias atrás:',dez_dias_antes)\n",
        " \n",
        "# 1 ano após a data atual\n",
        "um_ano_depois = Data_atual + timedelta(days = 365)\n",
        "print('um ano depois da data atual::', um_ano_depois)\n",
        " \n",
        "# 1 ano antes da data atual\n",
        "um_ano_antes = Data_atual - timedelta(days = 365)\n",
        "print('um ano antes da data atual:', um_ano_antes)"
      ],
      "metadata": {
        "colab": {
          "base_uri": "https://localhost:8080/"
        },
        "id": "4KcJjzNfhjLM",
        "outputId": "d65f152d-c573-4ee5-9731-f9ebc1b187a4"
      },
      "execution_count": 47,
      "outputs": [
        {
          "output_type": "stream",
          "name": "stdout",
          "text": [
            "Data atual:  2022-03-04 20:56:07.163132\n",
            "Data daqui a 10 dias: 2022-03-14 20:56:07.163132\n",
            "Data de 10 dias atrás: 2022-02-22 20:56:07.163132\n",
            "um ano depois da data atual:: 2023-03-04 20:56:07.163132\n",
            "um ano antes da data atual: 2021-03-04 20:56:07.163132\n"
          ]
        }
      ]
    },
    {
      "cell_type": "code",
      "source": [
        "from datetime import timedelta\n",
        "\n",
        "print(\"Imprimir outros atributos base da classe timedelta\\n\")\n",
        " \n",
        "# tempo maximo\n",
        "print(\"Max : \",timedelta.max)\n",
        " \n",
        "# temo minimo\n",
        "print(\"Min : \",timedelta.min)\n",
        " \n",
        "# A menor diferença possível entre objetos não iguais\n",
        "print(\"Resolution: \",timedelta.resolution)\n",
        " \n",
        "# método total_seconds() = conta quantos segundos tem uma determinada faixa de tempo\n",
        "print('Total number of seconds in an year :',\n",
        "      timedelta(days = 365).total_seconds())"
      ],
      "metadata": {
        "colab": {
          "base_uri": "https://localhost:8080/"
        },
        "id": "VVVtIkfItShd",
        "outputId": "b100815d-ac07-4347-eab3-58d686128c09"
      },
      "execution_count": 48,
      "outputs": [
        {
          "output_type": "stream",
          "name": "stdout",
          "text": [
            "Imprimir outros atributos base da classe timedelta\n",
            "\n",
            "Max :  999999999 days, 23:59:59.999999\n",
            "Min :  -999999999 days, 0:00:00\n",
            "Resolution:  0:00:00.000001\n",
            "Total number of seconds in an year : 31536000.0\n"
          ]
        }
      ]
    },
    {
      "cell_type": "code",
      "source": [
        "from datetime import timedelta\n",
        "\n",
        "print(\"\\nAplicação de algumas operações da classe timedelta\\n\")\n",
        "\n",
        "time_after_one_min = Data_atual + timedelta(seconds=10) * 6\n",
        "print('Time after one minute :', time_after_one_min)\n",
        " \n",
        "print('Timedelta absolute value :', abs(timedelta(days = +20)))\n",
        " \n",
        "print('Timedelta string representation :', str(timedelta(days = 5,\n",
        "                       seconds = 40, hours = 20, milliseconds = 355)))\n",
        " \n",
        "print('Timedelta object representation :', repr(timedelta(days = 5,\n",
        "                       seconds = 40, hours = 20, milliseconds = 355)))"
      ],
      "metadata": {
        "colab": {
          "base_uri": "https://localhost:8080/"
        },
        "id": "sqnh6jxsuAMu",
        "outputId": "39520595-1181-4d7c-dde8-f15839d5ab10"
      },
      "execution_count": 49,
      "outputs": [
        {
          "output_type": "stream",
          "name": "stdout",
          "text": [
            "\n",
            "Aplicação de algumas operações da classe timedelta\n",
            "\n",
            "Time after one minute : 2022-03-04 20:57:07.163132\n",
            "Timedelta absolute value : 20 days, 0:00:00\n",
            "Timedelta string representation : 5 days, 20:00:40.355000\n",
            "Timedelta object representation : datetime.timedelta(days=5, seconds=72040, microseconds=355000)\n"
          ]
        }
      ]
    },
    {
      "cell_type": "code",
      "source": [
        "from datetime import timedelta\n",
        "\n",
        "hoje = date.today()\n",
        "futuro = date(2022,6,12)\n",
        "passado = date(2020,3,18)\n",
        "\n",
        "dias_ate_agora = (hoje - passado)\n",
        "anos_ate_agora = (hoje - passado) / timedelta(days = 365)\n",
        "\n",
        "print(dias_ate_agora)\n",
        "print(anos_ate_agora)\n",
        "\n",
        "faltam = (futuro - hoje)\n",
        "\n",
        "print(faltam)"
      ],
      "metadata": {
        "colab": {
          "base_uri": "https://localhost:8080/"
        },
        "id": "XWduS7KYu5nk",
        "outputId": "7cd7d824-87a6-4537-b98e-c95c2bdb4529"
      },
      "execution_count": 63,
      "outputs": [
        {
          "output_type": "stream",
          "name": "stdout",
          "text": [
            "716 days, 0:00:00\n",
            "1.9616438356164383\n",
            "100 days, 0:00:00\n"
          ]
        }
      ]
    }
  ]
}