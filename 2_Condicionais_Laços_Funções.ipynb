{
  "nbformat": 4,
  "nbformat_minor": 0,
  "metadata": {
    "colab": {
      "name": "2_Condicionais_Laços_Funções.ipynb",
      "provenance": [],
      "collapsed_sections": [
        "RwYNN-HgFTO1"
      ],
      "toc_visible": true,
      "authorship_tag": "ABX9TyMF4XyRxMf8odf6hP5/sOmL",
      "include_colab_link": true
    },
    "kernelspec": {
      "name": "python3",
      "display_name": "Python 3"
    },
    "language_info": {
      "name": "python"
    }
  },
  "cells": [
    {
      "cell_type": "markdown",
      "metadata": {
        "id": "view-in-github",
        "colab_type": "text"
      },
      "source": [
        "<a href=\"https://colab.research.google.com/github/Gus-1003/Python_Experimentos/blob/main/2_Condicionais_La%C3%A7os_Fun%C3%A7%C3%B5es.ipynb\" target=\"_parent\"><img src=\"https://colab.research.google.com/assets/colab-badge.svg\" alt=\"Open In Colab\"/></a>"
      ]
    },
    {
      "cell_type": "markdown",
      "source": [
        "#Fontes de Pesquisa:\n",
        "\n",
        "\n",
        "*   Documentação Python: https://docs.python.org/pt-br/3/tutorial/controlflow.html\n",
        "*   Aula 3 - Disciplina Ciencia de dados - Professora Laura Emmanuella: https://github.com/lauraemmanuella/IntroducaoPython/blob/main/3_Declaracoes.ipynb\n",
        "*   Aula 4 - Disciplina Ciencia de dados - Professora Laura Emmanuella: https://github.com/lauraemmanuella/IntroducaoPython/blob/main/4_Funcoes.ipynb\n",
        "*   DEVMEDIA - https://www.devmedia.com.br/python-estrutura-de-repeticao-while/38546\n",
        "\n"
      ],
      "metadata": {
        "id": "FW-0ca3vHLvV"
      }
    },
    {
      "cell_type": "markdown",
      "source": [
        "# Declaração de estruturas"
      ],
      "metadata": {
        "id": "RwYNN-HgFTO1"
      }
    },
    {
      "cell_type": "markdown",
      "source": [
        "## Principais Diferenças:\n",
        "\n",
        "\n",
        "* A linguagem não utiliza { } para o controle do escopo das estruturas;\n",
        "* As declaraçôes são terminadas com dois pontos e o espaço em branco é usado (recuo) para descrever o que ocorre no escopo da declaração;\n",
        "* Não é utilizado ponto e virgula ( ; ) no final do comandos;\n",
        "\n",
        "**Versão Python:**\n",
        "\n",
        "     se a > b:\n",
        "         a = 2\n",
        "         b = 4\n"
      ],
      "metadata": {
        "id": "2lbA8uV5FbEE"
      }
    },
    {
      "cell_type": "markdown",
      "source": [
        "# If, elif e else"
      ],
      "metadata": {
        "id": "ASqieMphGrZd"
      }
    },
    {
      "cell_type": "code",
      "execution_count": 1,
      "metadata": {
        "colab": {
          "base_uri": "https://localhost:8080/"
        },
        "id": "w_4GyMCwEz1A",
        "outputId": "c6d09dcd-9f07-4c4e-da57-1e608648442b"
      },
      "outputs": [
        {
          "output_type": "stream",
          "name": "stdout",
          "text": [
            "It was true!\n"
          ]
        }
      ],
      "source": [
        "if True:\n",
        "    print('It was true!')"
      ]
    },
    {
      "cell_type": "markdown",
      "source": [
        "## Conceitos:\n",
        "* A palavra-chave ‘elif’ é uma abreviação para ‘else if’, e é útil para evitar indentação excessiva. \n",
        "* Uma sequência if … elif … elif … substitui os comandos switch ou case, encontrados em outras linguagens.\n",
        "* Se você está comparando o mesmo valor com várias constantes, ou verificando por tipos ou atributos específicos, você também pode achar a instrução match útil. Para mais detalhes veja Instruções match."
      ],
      "metadata": {
        "id": "GH8YAbdOJVhl"
      }
    },
    {
      "cell_type": "code",
      "source": [
        "x = False\n",
        "\n",
        "if x:\n",
        "  print('x was True!')\n",
        "else:\n",
        "  print('I will be printed in any case where x is not true')"
      ],
      "metadata": {
        "colab": {
          "base_uri": "https://localhost:8080/"
        },
        "id": "aus8ApFtHJOt",
        "outputId": "89af6448-5e56-42bc-8e99-be01bd497921"
      },
      "execution_count": 2,
      "outputs": [
        {
          "output_type": "stream",
          "name": "stdout",
          "text": [
            "I will be printed in any case where x is not true\n"
          ]
        }
      ]
    },
    {
      "cell_type": "code",
      "source": [
        "x = int(input(\"Please enter an integer: \"))\n",
        "\n",
        "if x < 0:\n",
        "  x = 0\n",
        "  print('Negativo transformado em 0')\n",
        "elif x == 0:\n",
        "  print('Zero')\n",
        "elif x == 1:\n",
        "  print('Uma unidade')\n",
        "else:\n",
        "  print('Maior que 1')"
      ],
      "metadata": {
        "colab": {
          "base_uri": "https://localhost:8080/"
        },
        "id": "uOyc7CI4Ih5-",
        "outputId": "5c6a49f3-cb77-4686-c63c-277a4f0c2076"
      },
      "execution_count": 5,
      "outputs": [
        {
          "output_type": "stream",
          "name": "stdout",
          "text": [
            "Please enter an integer: 40\n",
            "Mais que 1\n"
          ]
        }
      ]
    },
    {
      "cell_type": "markdown",
      "source": [
        "# For "
      ],
      "metadata": {
        "id": "WXLoUlP6J9te"
      }
    },
    {
      "cell_type": "markdown",
      "source": [
        "## Conceitos:\n",
        "o comando \"for\" do Python itera sobre os itens de qualquer sequência (seja uma lista ou uma string), na ordem que aparecem na sequência.\n",
        "\n",
        "Os objetos vistos até agora que podemos iterar incluem strings, listas, tuplas e até iteráveis embutidos em dicionários, como chaves ou valores. "
      ],
      "metadata": {
        "id": "2dMEsXKlKTiN"
      }
    },
    {
      "cell_type": "code",
      "source": [
        "# Mensura a quantidade de caracteres:\n",
        "words = ['cat', 'window', 'defenestrate']\n",
        "# W = Elemento da lista\n",
        "# Words = Lista\n",
        "for w in words: # Para cada Elemento da lista na lista\n",
        "  print(w, len(w)) #Imprima o elemento e o \"tamanho\" desse elemento"
      ],
      "metadata": {
        "colab": {
          "base_uri": "https://localhost:8080/"
        },
        "id": "EEZBDkpzKFQ9",
        "outputId": "95b81158-60cb-4621-cb8d-f3b84dc0e5a9"
      },
      "execution_count": 1,
      "outputs": [
        {
          "output_type": "stream",
          "name": "stdout",
          "text": [
            "cat 3\n",
            "window 6\n",
            "defenestrate 12\n"
          ]
        }
      ]
    },
    {
      "cell_type": "code",
      "source": [
        "# Código que modifica uma coleção sobre a qual está iterando pode ser inseguro. \n",
        "# No lugar disso, usualmente você deve iterar sobre uma cópia da coleção ou criar uma nova coleção:\n",
        "\n",
        "# Criar uma simples collection / Dicionário\n",
        "users = {'Hans': 'active', 'Éléonore': 'inactive', '景太郎': 'active'}\n",
        "\n",
        "# Estrategia 1:  Iterate over a copy\n",
        "for user, status in users.copy().items():\n",
        "  if status == 'inactive':\n",
        "     del users[user]\n",
        "\n",
        "# Estrategia 2:  Criar um novo collection / Dicionário\n",
        "active_users = {}\n",
        "for user, status in users.items():\n",
        "    if status == 'active':\n",
        "      active_users[user] = status"
      ],
      "metadata": {
        "id": "RETxu6Q-LUQH"
      },
      "execution_count": 8,
      "outputs": []
    },
    {
      "cell_type": "code",
      "source": [
        "seq = [1,2,3,4,5]\n",
        "# Para cada item da sequência / conjunto imprima o item\n",
        "for item in seq:\n",
        "    print(item)"
      ],
      "metadata": {
        "id": "kYXYNzBxNe7X"
      },
      "execution_count": null,
      "outputs": []
    },
    {
      "cell_type": "code",
      "source": [
        "# Para cada letra da sequência textual\n",
        "for letter in 'This is a string.':\n",
        "    print(letter)"
      ],
      "metadata": {
        "id": "DJELb4ZA7zSK"
      },
      "execution_count": null,
      "outputs": []
    },
    {
      "cell_type": "code",
      "source": [
        "Lista = [(2,4),(6,8),(10,12)]\n",
        "# Lista das tuplas / Linhas\n",
        "for tup in Lista:\n",
        "    print(tup)"
      ],
      "metadata": {
        "colab": {
          "base_uri": "https://localhost:8080/"
        },
        "id": "aB5rWtj-74_C",
        "outputId": "a876946f-2269-476e-fc79-ccd631ae4fa1"
      },
      "execution_count": 10,
      "outputs": [
        {
          "output_type": "stream",
          "name": "stdout",
          "text": [
            "(2, 4)\n",
            "(6, 8)\n",
            "(10, 12)\n"
          ]
        }
      ]
    },
    {
      "cell_type": "code",
      "source": [
        "for (t1,t2) in l:\n",
        "    print(t1)"
      ],
      "metadata": {
        "colab": {
          "base_uri": "https://localhost:8080/"
        },
        "id": "wUCBCexX7-jr",
        "outputId": "47404722-afb1-4550-cdbf-28e2cdcb9c0c"
      },
      "execution_count": 11,
      "outputs": [
        {
          "output_type": "stream",
          "name": "stdout",
          "text": [
            "2\n",
            "6\n",
            "10\n"
          ]
        }
      ]
    },
    {
      "cell_type": "code",
      "source": [
        "Dicionario = {'k1':1,'k2':2,'k3':3}\n",
        "# Para cada item do dicianario imprima o item\n",
        "for item in Dicionario:\n",
        "    print(item)"
      ],
      "metadata": {
        "colab": {
          "base_uri": "https://localhost:8080/"
        },
        "id": "lQ6zCRMe8Coq",
        "outputId": "9c8db948-c95a-46b5-939c-8100b61842e1"
      },
      "execution_count": 14,
      "outputs": [
        {
          "output_type": "stream",
          "name": "stdout",
          "text": [
            "k1\n",
            "k2\n",
            "k3\n"
          ]
        }
      ]
    },
    {
      "cell_type": "code",
      "source": [
        "# Para cada item do dicianario imprima a chava / Atributo\n",
        "for item in Dicionario.keys():\n",
        "    print(item)"
      ],
      "metadata": {
        "colab": {
          "base_uri": "https://localhost:8080/"
        },
        "id": "oJNEe7M18mIL",
        "outputId": "70c3664f-3f88-4aef-e1c5-7a8c3c476634"
      },
      "execution_count": 16,
      "outputs": [
        {
          "output_type": "stream",
          "name": "stdout",
          "text": [
            "k1\n",
            "k2\n",
            "k3\n"
          ]
        }
      ]
    },
    {
      "cell_type": "code",
      "source": [
        "# Para cada item do dicianario imprima o valor do atributo\n",
        "for item in Dicionario.values(): \n",
        "    print(item)"
      ],
      "metadata": {
        "colab": {
          "base_uri": "https://localhost:8080/"
        },
        "id": "sOIwqlju9qWz",
        "outputId": "46fa345e-f66c-436e-f5be-1c7952d3fcd2"
      },
      "execution_count": 17,
      "outputs": [
        {
          "output_type": "stream",
          "name": "stdout",
          "text": [
            "1\n",
            "2\n",
            "3\n"
          ]
        }
      ]
    },
    {
      "cell_type": "code",
      "source": [
        "# Para cada item do dicianario imprima o Atributo e o seu valor\n",
        "\n",
        "for k,v in Dicionario.items():\n",
        "    print(k)\n",
        "    print(v) "
      ],
      "metadata": {
        "colab": {
          "base_uri": "https://localhost:8080/"
        },
        "id": "6eOB-A9E99uj",
        "outputId": "98b9183e-59e8-4da1-9799-439ded9563ee"
      },
      "execution_count": 18,
      "outputs": [
        {
          "output_type": "stream",
          "name": "stdout",
          "text": [
            "k1\n",
            "1\n",
            "k2\n",
            "2\n",
            "k3\n",
            "3\n"
          ]
        }
      ]
    },
    {
      "cell_type": "code",
      "metadata": {
        "id": "6y5AGD6WhjN3",
        "colab": {
          "base_uri": "https://localhost:8080/"
        },
        "outputId": "5c0a0fe2-da33-49be-b4d0-0f49c716c78d"
      },
      "source": [
        "\n",
        "a = ['Mary', 'had', 'a', 'little', 'lamb']\n",
        "for i in range(len(a)):\n",
        "    print(i, a[i])"
      ],
      "execution_count": 20,
      "outputs": [
        {
          "output_type": "stream",
          "name": "stdout",
          "text": [
            "0 Mary\n",
            "1 had\n",
            "2 a\n",
            "3 little\n",
            "4 lamb\n"
          ]
        }
      ]
    },
    {
      "cell_type": "code",
      "source": [
        "# A função enumerate tb é uma função geradora, assim como o range\n",
        "for i, j in enumerate(a):\n",
        "    print(i, j)"
      ],
      "metadata": {
        "colab": {
          "base_uri": "https://localhost:8080/"
        },
        "id": "VXdWAyuR-Wnj",
        "outputId": "f1b08333-4440-4f15-88e8-589e06ea15ae"
      },
      "execution_count": 21,
      "outputs": [
        {
          "output_type": "stream",
          "name": "stdout",
          "text": [
            "0 Mary\n",
            "1 had\n",
            "2 a\n",
            "3 little\n",
            "4 lamb\n"
          ]
        }
      ]
    },
    {
      "cell_type": "markdown",
      "source": [
        "#  Cláusulas break, else loops e Continue"
      ],
      "metadata": {
        "id": "IG3Eu3Sb-hhU"
      }
    },
    {
      "cell_type": "markdown",
      "source": [
        "## Conceitos:\n",
        "*  O comando **break**, como no C, sai imediatamente do laço de repetição mais interno, seja for ou while.\n",
        "* Laços podem ter uma **cláusula else**, que é executada sempre que o laço se encerra por exaustão do iterável (no caso do for) ou quando a condição se torna falsa (no caso do while), mas nunca quando o laço é interrompido por um break."
      ],
      "metadata": {
        "id": "TvLzPooThjnJ"
      }
    },
    {
      "cell_type": "code",
      "source": [
        "#Encontrar os números primos entre 2 e 9\n",
        "for n in range(2, 10): #para cada numero n entre 2 e 9\n",
        "    for x in range(2, n): #testa se o numero n é divisivel pelos numeros de 2 até ele mesmo\n",
        "        if n % x == 0:\n",
        "            print(n, 'equals', x, '*', n//x) #se for divisivel, ele não é primo\n",
        "            break #encerra o laço\n",
        "    else: #caso ele não tenha entrado do if (saído do laço com o break), ele entrará nesse else \n",
        "        print(n, 'is a prime number') #o numero é primo, pois não foi divisível por nenhum numero entre 1 e ele mesmo"
      ],
      "metadata": {
        "colab": {
          "base_uri": "https://localhost:8080/"
        },
        "id": "vivwTtRx-lmb",
        "outputId": "7233635a-6869-4ccf-e9d4-40860f6b3bfa"
      },
      "execution_count": 22,
      "outputs": [
        {
          "output_type": "stream",
          "name": "stdout",
          "text": [
            "2 is a prime number\n",
            "3 is a prime number\n",
            "4 equals 2 * 2\n",
            "5 is a prime number\n",
            "6 equals 2 * 3\n",
            "7 is a prime number\n",
            "8 equals 2 * 4\n",
            "9 equals 3 * 3\n"
          ]
        }
      ]
    },
    {
      "cell_type": "code",
      "source": [
        "#Encontrar os numeros pares entre 2 e 9\n",
        "for num in range(2, 10): #para cada numero num entre 2 e 9\n",
        "  if num % 2 == 0: #testa se o numero num é divisivel por 2\n",
        "    print(\"Found a even number\", num)\n",
        "    continue #se for, busca o próximo numero\n",
        "  print(\"Found a number\", num) #se não for, mostra o numero aqui (impar)"
      ],
      "metadata": {
        "colab": {
          "base_uri": "https://localhost:8080/"
        },
        "id": "lZ123-z3-4Ik",
        "outputId": "66f03db0-1ec9-4136-864e-7a09dbe5eee2"
      },
      "execution_count": 23,
      "outputs": [
        {
          "output_type": "stream",
          "name": "stdout",
          "text": [
            "Found a even number 2\n",
            "Found a number 3\n",
            "Found a even number 4\n",
            "Found a number 5\n",
            "Found a even number 6\n",
            "Found a number 7\n",
            "Found a even number 8\n",
            "Found a number 9\n"
          ]
        }
      ]
    },
    {
      "cell_type": "markdown",
      "source": [
        "A instrução continue, também emprestada da linguagem C, continua com a próxima iteração do laço:"
      ],
      "metadata": {
        "id": "b3dGGSlOjG_p"
      }
    },
    {
      "cell_type": "code",
      "source": [
        "for num in range(2, 10):\n",
        "  if num % 2 == 0:\n",
        "    print(\"Found an even number\", num)\n",
        "    continue\n",
        "  print(\"Found an odd number\", num)"
      ],
      "metadata": {
        "colab": {
          "base_uri": "https://localhost:8080/"
        },
        "id": "xR91tNmIjH6s",
        "outputId": "4860e608-2d79-430e-b4db-dbdcc6dcf404"
      },
      "execution_count": 1,
      "outputs": [
        {
          "output_type": "stream",
          "name": "stdout",
          "text": [
            "Found an even number 2\n",
            "Found an odd number 3\n",
            "Found an even number 4\n",
            "Found an odd number 5\n",
            "Found an even number 6\n",
            "Found an odd number 7\n",
            "Found an even number 8\n",
            "Found an odd number 9\n"
          ]
        }
      ]
    },
    {
      "cell_type": "markdown",
      "source": [
        "# While"
      ],
      "metadata": {
        "id": "9cKohZOD_Aka"
      }
    },
    {
      "cell_type": "markdown",
      "source": [
        "## Conceito:\n",
        "\n",
        "\n",
        "\n",
        "*  O comando while faz com que um conjunto de instruções seja executado **enquanto uma condição é atendida**. Quando o resultado dessa condição passa a ser falso, a execução do loop é interrompida;\n",
        "*  Ao final do while podemos **utilizar a instrução else.** O propósito disso é executar alguma instrução ou bloco de código ao final do loop;\n",
        "*  Se dentro da repetição for executado um break, o loop será encerrado sem executar o conjunto da cláusula else.\n",
        "\n",
        "\n"
      ],
      "metadata": {
        "id": "YsCF0AyjlOCD"
      }
    },
    {
      "cell_type": "code",
      "source": [
        "x = 0\n",
        "\n",
        "while x < 10:\n",
        "    print('x is currently: ', x)\n",
        "    print(' x is still less than 10, adding 1 to x')\n",
        "    x += 1"
      ],
      "metadata": {
        "colab": {
          "base_uri": "https://localhost:8080/"
        },
        "id": "O0J6q_jDj3FR",
        "outputId": "cbc701ec-d51f-41fb-e1a6-8c3384ac9bb8"
      },
      "execution_count": 2,
      "outputs": [
        {
          "output_type": "stream",
          "name": "stdout",
          "text": [
            "x is currently:  0\n",
            " x is still less than 10, adding 1 to x\n",
            "x is currently:  1\n",
            " x is still less than 10, adding 1 to x\n",
            "x is currently:  2\n",
            " x is still less than 10, adding 1 to x\n",
            "x is currently:  3\n",
            " x is still less than 10, adding 1 to x\n",
            "x is currently:  4\n",
            " x is still less than 10, adding 1 to x\n",
            "x is currently:  5\n",
            " x is still less than 10, adding 1 to x\n",
            "x is currently:  6\n",
            " x is still less than 10, adding 1 to x\n",
            "x is currently:  7\n",
            " x is still less than 10, adding 1 to x\n",
            "x is currently:  8\n",
            " x is still less than 10, adding 1 to x\n",
            "x is currently:  9\n",
            " x is still less than 10, adding 1 to x\n"
          ]
        }
      ]
    },
    {
      "cell_type": "code",
      "source": [
        "contador = 0\n",
        "while (contador < 5):\n",
        "      print(contador)\n",
        "      contador = contador + 1\n",
        "else:\n",
        "      print(\" - O loop while foi encerrado com sucesso!\")"
      ],
      "metadata": {
        "colab": {
          "base_uri": "https://localhost:8080/"
        },
        "id": "ujUNZVjymAXD",
        "outputId": "0d7bcf1c-1ee0-4c2c-f279-bd0bc94ceb48"
      },
      "execution_count": 10,
      "outputs": [
        {
          "output_type": "stream",
          "name": "stdout",
          "text": [
            "0\n",
            "1\n",
            "2\n",
            "3\n",
            "4\n",
            " - O loop while foi encerrado com sucesso!\n"
          ]
        }
      ]
    },
    {
      "cell_type": "code",
      "source": [
        "x = 5\n",
        "while True:\n",
        "    print(x)\n",
        "    x+=1\n",
        "    if x > 10:\n",
        "        break;\n",
        "else:\n",
        "      print(\" - O loop while foi encerrado com sucesso!\")"
      ],
      "metadata": {
        "colab": {
          "base_uri": "https://localhost:8080/"
        },
        "id": "HGtvmDiwj6HZ",
        "outputId": "06e03309-2373-49bb-ab91-8695feaa21b8"
      },
      "execution_count": 11,
      "outputs": [
        {
          "output_type": "stream",
          "name": "stdout",
          "text": [
            "5\n",
            "6\n",
            "7\n",
            "8\n",
            "9\n",
            "10\n"
          ]
        }
      ]
    },
    {
      "cell_type": "markdown",
      "source": [
        "# Comando pass"
      ],
      "metadata": {
        "id": "Ndc0WcHUkCZZ"
      }
    },
    {
      "cell_type": "markdown",
      "source": [
        "## Conceito:\n",
        "\n",
        "*   O comando pass não faz nada.\n",
        "*   Pode ser usada quando a sintaxe exige um comando mas a semântica do programa não requer nenhuma ação.\n",
        "*   Pode ser usado é como um substituto temporário para uma função ou bloco condicional, quando se está trabalhando com código novo.\n",
        "\n"
      ],
      "metadata": {
        "id": "u_M7EumwkGDb"
      }
    },
    {
      "cell_type": "code",
      "source": [
        "def initlog(*args):\n",
        "  pass   # Remember to implement this!"
      ],
      "metadata": {
        "id": "KNJym5ANkYBT"
      },
      "execution_count": 8,
      "outputs": []
    },
    {
      "cell_type": "code",
      "source": [
        "class MyEmptyClass:\n",
        "  pass"
      ],
      "metadata": {
        "id": "SpraogQWkk6z"
      },
      "execution_count": 7,
      "outputs": []
    },
    {
      "cell_type": "markdown",
      "source": [
        "# Funções:"
      ],
      "metadata": {
        "id": "_NbjT7HAkwsS"
      }
    },
    {
      "cell_type": "markdown",
      "source": [
        "## Conceito:\n",
        "\n",
        "\n",
        "*   A palavra reservada **def** inicia a definição de uma função. Ela deve ser seguida do nome da função e da lista de parâmetros formais entre parênteses.\n",
        "*   Opcionalmente, a primeira linha do corpo da função pode ser uma literal string, cujo propósito é documentar a função.\n",
        "*   Todas as atribuições de variáveis numa função são armazenadas na tabela de símbolos local;\n",
        "*   Os parâmetros reais (argumentos) de uma chamada de função são introduzidos na tabela de símbolos local da função no momento da chamada; portanto, argumentos são passados por valor (onde o valor é sempre uma referência para objeto, não o valor do objeto).\n",
        "\n",
        "\n",
        "\n"
      ],
      "metadata": {
        "id": "j57kXTJYmrfD"
      }
    },
    {
      "cell_type": "code",
      "source": [
        "def intro():\n",
        "    '''\n",
        "    Essa funcao exibe uma mensagem inicial\n",
        "    '''\n",
        "    print('Aprendendo sobre funções em python')\n",
        "\n",
        "intro()"
      ],
      "metadata": {
        "colab": {
          "base_uri": "https://localhost:8080/"
        },
        "id": "ptSY69YnoWtM",
        "outputId": "e0687bdf-1b2c-4f59-b739-ae93a3e55b89"
      },
      "execution_count": 17,
      "outputs": [
        {
          "output_type": "stream",
          "name": "stdout",
          "text": [
            "Aprendendo sobre funções em python\n"
          ]
        }
      ]
    },
    {
      "cell_type": "code",
      "source": [
        "def welcome(name):\n",
        "    '''\n",
        "    Essa funcao apresenta as boas vindas\n",
        "    '''\n",
        "    print('Seja bem-vindo',name)\n",
        "\n",
        "welcome(\"Gustavo\")"
      ],
      "metadata": {
        "colab": {
          "base_uri": "https://localhost:8080/"
        },
        "id": "BEZBHLhfopek",
        "outputId": "61aed9bd-5499-4059-8ecf-f014c9cd079e"
      },
      "execution_count": 20,
      "outputs": [
        {
          "output_type": "stream",
          "name": "stdout",
          "text": [
            "Seja bem-vindo Gustavo\n"
          ]
        }
      ]
    },
    {
      "cell_type": "code",
      "source": [
        "# Podemos criar uma função que escreve a série de Fibonacci até um limite arbitrário:\n",
        "def fib(n):\n",
        "  \"\"\"Print a Fibonacci series up to n.\"\"\"\n",
        "  a, b = 0, 1\n",
        "  while a < n:\n",
        "    print(a, end=' ')\n",
        "    a, b = b, a+b\n",
        "  print()"
      ],
      "metadata": {
        "id": "yNGkEHq0kv7S"
      },
      "execution_count": 12,
      "outputs": []
    },
    {
      "cell_type": "code",
      "source": [
        "fib(2000)"
      ],
      "metadata": {
        "colab": {
          "base_uri": "https://localhost:8080/"
        },
        "id": "kGrTUvoInGDb",
        "outputId": "8c360dc2-4ac6-4df2-899c-02dec479fda4"
      },
      "execution_count": 21,
      "outputs": [
        {
          "output_type": "stream",
          "name": "stdout",
          "text": [
            "0 1 1 2 3 5 8 13 21 34 55 89 144 233 377 610 987 1597 \n"
          ]
        }
      ]
    },
    {
      "cell_type": "markdown",
      "source": [
        "## Parâmetros Implicitos"
      ],
      "metadata": {
        "id": "DwGkOpa7pc9c"
      }
    },
    {
      "cell_type": "code",
      "source": [
        "def login(user = 'admin', senha = 'admin'):\n",
        "    print('Usuario: ', user, '\\nSenha: ', senha)"
      ],
      "metadata": {
        "id": "4J9EiBeZpiJU"
      },
      "execution_count": 22,
      "outputs": []
    },
    {
      "cell_type": "code",
      "source": [
        "login()"
      ],
      "metadata": {
        "colab": {
          "base_uri": "https://localhost:8080/"
        },
        "id": "72S3jFFoplCc",
        "outputId": "4cf58af9-c905-4d2b-8215-9b78e1ddb87e"
      },
      "execution_count": 23,
      "outputs": [
        {
          "output_type": "stream",
          "name": "stdout",
          "text": [
            "Usuario:  admin \n",
            "Senha:  admin\n"
          ]
        }
      ]
    },
    {
      "cell_type": "code",
      "source": [
        "login('Gustavo')"
      ],
      "metadata": {
        "colab": {
          "base_uri": "https://localhost:8080/"
        },
        "id": "rjHdQdOxpnDs",
        "outputId": "cb56a5c7-d58b-4050-e838-e6143dcde759"
      },
      "execution_count": 24,
      "outputs": [
        {
          "output_type": "stream",
          "name": "stdout",
          "text": [
            "Usuario:  Gustavo \n",
            "Senha:  admin\n"
          ]
        }
      ]
    },
    {
      "cell_type": "code",
      "source": [
        "login(senha = '123456')"
      ],
      "metadata": {
        "colab": {
          "base_uri": "https://localhost:8080/"
        },
        "id": "evtgD1uupqRk",
        "outputId": "e9d1a3a2-1fc1-4129-a272-6cb7f8a6b163"
      },
      "execution_count": 25,
      "outputs": [
        {
          "output_type": "stream",
          "name": "stdout",
          "text": [
            "Usuario:  admin \n",
            "Senha:  123456\n"
          ]
        }
      ]
    },
    {
      "cell_type": "code",
      "source": [
        "def somar(num1,num2):\n",
        "    return num1+num2"
      ],
      "metadata": {
        "id": "TZCM0S3Fps2s"
      },
      "execution_count": 27,
      "outputs": []
    },
    {
      "cell_type": "code",
      "source": [
        "somar(450,455)"
      ],
      "metadata": {
        "colab": {
          "base_uri": "https://localhost:8080/"
        },
        "id": "YjPUf3ZOpvb0",
        "outputId": "bb5f2e79-b581-4a11-d975-5aa80bb1247f"
      },
      "execution_count": 29,
      "outputs": [
        {
          "output_type": "execute_result",
          "data": {
            "text/plain": [
              "905"
            ]
          },
          "metadata": {},
          "execution_count": 29
        }
      ]
    },
    {
      "cell_type": "markdown",
      "source": [
        "## Funções Aninhadas:"
      ],
      "metadata": {
        "id": "qioFmri9qHYK"
      }
    },
    {
      "cell_type": "markdown",
      "source": [
        "Em Python podemos definir uma função dentro de outra, mas ela tem escopo local, ou seja, não pode ser acessada de fora da função que a define"
      ],
      "metadata": {
        "id": "7ceKJZ4gqMUd"
      }
    },
    {
      "cell_type": "code",
      "source": [
        "from random import randint\n",
        "\n",
        "def func1(): # Função 1 - Responsavel por todo o processo\n",
        "\n",
        "    def divisor(x): # Função 2 - Responsavel por divisir um valor x\n",
        "        if x%3==0 and x%5==0:\n",
        "            return True\n",
        "        return False\n",
        "\n",
        "    a = randint(0, 100) # Gerar números aleatórios entre 0 e 100\n",
        "\n",
        "    if divisor(a): # Invoca a função 2 usando como uma flag de um condicional\n",
        "        print(a, ' eh divisivel por 3 e 5')\n",
        "    else:\n",
        "        print(a, ' nao eh divisivel por 3 e 5')"
      ],
      "metadata": {
        "id": "YM2gpxBOqO40"
      },
      "execution_count": 32,
      "outputs": []
    },
    {
      "cell_type": "code",
      "source": [
        "func1()"
      ],
      "metadata": {
        "colab": {
          "base_uri": "https://localhost:8080/"
        },
        "id": "BmEjXUeTq6DM",
        "outputId": "349ea55d-cb38-4fa7-e253-8692b132be1f"
      },
      "execution_count": 34,
      "outputs": [
        {
          "output_type": "stream",
          "name": "stdout",
          "text": [
            "87  nao eh divisivel por 3 e 5\n"
          ]
        }
      ]
    },
    {
      "cell_type": "code",
      "source": [
        "divisor(30) # A função divisor só existe dentro da função 1"
      ],
      "metadata": {
        "colab": {
          "base_uri": "https://localhost:8080/",
          "height": 172
        },
        "id": "yuCJY9qZrAh1",
        "outputId": "f353908e-96c3-42da-b7d6-7f31af8d2d1e"
      },
      "execution_count": 35,
      "outputs": [
        {
          "output_type": "error",
          "ename": "NameError",
          "evalue": "ignored",
          "traceback": [
            "\u001b[0;31m---------------------------------------------------------------------------\u001b[0m",
            "\u001b[0;31mNameError\u001b[0m                                 Traceback (most recent call last)",
            "\u001b[0;32m<ipython-input-35-20ac840738d0>\u001b[0m in \u001b[0;36m<module>\u001b[0;34m()\u001b[0m\n\u001b[0;32m----> 1\u001b[0;31m \u001b[0mdivisor\u001b[0m\u001b[0;34m(\u001b[0m\u001b[0;36m30\u001b[0m\u001b[0;34m)\u001b[0m\u001b[0;34m\u001b[0m\u001b[0;34m\u001b[0m\u001b[0m\n\u001b[0m",
            "\u001b[0;31mNameError\u001b[0m: name 'divisor' is not defined"
          ]
        }
      ]
    }
  ]
}