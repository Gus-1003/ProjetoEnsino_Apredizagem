{
  "nbformat": 4,
  "nbformat_minor": 0,
  "metadata": {
    "colab": {
      "name": "1_Listas.ipynb",
      "provenance": [],
      "authorship_tag": "ABX9TyOR8DvW+twSnhGelkHz0zhu",
      "include_colab_link": true
    },
    "kernelspec": {
      "name": "python3",
      "display_name": "Python 3"
    },
    "language_info": {
      "name": "python"
    }
  },
  "cells": [
    {
      "cell_type": "markdown",
      "metadata": {
        "id": "view-in-github",
        "colab_type": "text"
      },
      "source": [
        "<a href=\"https://colab.research.google.com/github/Gus-1003/Python_Experimentos/blob/main/Estrutura_de_Dados/1_Lista.ipynb\" target=\"_parent\"><img src=\"https://colab.research.google.com/assets/colab-badge.svg\" alt=\"Open In Colab\"/></a>"
      ]
    },
    {
      "cell_type": "markdown",
      "source": [
        "# Listas em python"
      ],
      "metadata": {
        "id": "m27HSNVCEmL_"
      }
    },
    {
      "cell_type": "markdown",
      "source": [
        "## Exemplo: Lista de planetas no sistema Solar"
      ],
      "metadata": {
        "id": "uBbWUCYuEsav"
      }
    },
    {
      "cell_type": "markdown",
      "source": [
        "### Criação da lista:"
      ],
      "metadata": {
        "id": "6-9o-dPrHkhQ"
      }
    },
    {
      "cell_type": "code",
      "execution_count": 4,
      "metadata": {
        "colab": {
          "base_uri": "https://localhost:8080/"
        },
        "id": "dkPZ4acDC8-M",
        "outputId": "10884254-7dbc-4d09-e637-23948786a33e"
      },
      "outputs": [
        {
          "output_type": "execute_result",
          "data": {
            "text/plain": [
              "['Mercurio',\n",
              " 'Venus',\n",
              " 'Terra',\n",
              " 'Marte',\n",
              " 'Jupiter',\n",
              " 'Urano',\n",
              " 'Neturno',\n",
              " 'Jupiter']"
            ]
          },
          "metadata": {},
          "execution_count": 4
        }
      ],
      "source": [
        "planetas = ['Mercurio', 'Venus', 'Terra', 'Marte', 'Jupiter', 'Urano', 'Neturno', 'Jupiter']\n",
        "planetas"
      ]
    },
    {
      "cell_type": "markdown",
      "source": [
        "### Operações de Buscas:"
      ],
      "metadata": {
        "id": "m5UL9hlwHszw"
      }
    },
    {
      "cell_type": "code",
      "source": [
        "planetas.pop() # Retora os elementos que estão no topo da lista"
      ],
      "metadata": {
        "colab": {
          "base_uri": "https://localhost:8080/",
          "height": 36
        },
        "id": "8VIfDoB8HP5A",
        "outputId": "085fd08f-c854-4efa-9b05-03b3bb921c6a"
      },
      "execution_count": 19,
      "outputs": [
        {
          "output_type": "execute_result",
          "data": {
            "application/vnd.google.colaboratory.intrinsic+json": {
              "type": "string"
            },
            "text/plain": [
              "'Venus'"
            ]
          },
          "metadata": {},
          "execution_count": 19
        }
      ]
    },
    {
      "cell_type": "code",
      "source": [
        "planetas.count('Jupiter') # Devolve o número de vezes em que x aparece na lista."
      ],
      "metadata": {
        "colab": {
          "base_uri": "https://localhost:8080/"
        },
        "id": "_PJX-beNEc95",
        "outputId": "c30730f8-34af-4186-e362-59bab5ce8c21"
      },
      "execution_count": 5,
      "outputs": [
        {
          "output_type": "execute_result",
          "data": {
            "text/plain": [
              "2"
            ]
          },
          "metadata": {},
          "execution_count": 5
        }
      ]
    },
    {
      "cell_type": "code",
      "source": [
        "# index = Devolve o indice (posição) que esse elemento se encontra na lista\n",
        "# Lembrando = A lista começa do indice 0\n",
        "planetas.index('Marte')"
      ],
      "metadata": {
        "colab": {
          "base_uri": "https://localhost:8080/"
        },
        "id": "HG42Udm-FL1g",
        "outputId": "82825ab3-a997-4263-d481-647416cc50cd"
      },
      "execution_count": 8,
      "outputs": [
        {
          "output_type": "execute_result",
          "data": {
            "text/plain": [
              "3"
            ]
          },
          "metadata": {},
          "execution_count": 8
        }
      ]
    },
    {
      "cell_type": "code",
      "source": [
        "planetas.index('Neturno', 4)  # Comece a procurar a partir de um determinado Indice"
      ],
      "metadata": {
        "colab": {
          "base_uri": "https://localhost:8080/"
        },
        "id": "_Ev3bjfzGGOg",
        "outputId": "01634e02-7f6e-46e1-ed74-597b14d6c02f"
      },
      "execution_count": 12,
      "outputs": [
        {
          "output_type": "execute_result",
          "data": {
            "text/plain": [
              "6"
            ]
          },
          "metadata": {},
          "execution_count": 12
        }
      ]
    },
    {
      "cell_type": "markdown",
      "source": [
        "### Ordenação:"
      ],
      "metadata": {
        "id": "UtMkeuwLHxmI"
      }
    },
    {
      "cell_type": "code",
      "source": [
        "planetas.reverse() # Inverte a ordem dos elementos na lista\n",
        "planetas"
      ],
      "metadata": {
        "colab": {
          "base_uri": "https://localhost:8080/"
        },
        "id": "QsH4PaQeGeOS",
        "outputId": "7ea32b3d-4e0c-4bda-b1b6-5b82f08399ca"
      },
      "execution_count": 21,
      "outputs": [
        {
          "output_type": "execute_result",
          "data": {
            "text/plain": [
              "['Jupiter',\n",
              " 'Jupiter',\n",
              " 'Marte',\n",
              " 'Mercurio',\n",
              " 'Nemesis',\n",
              " 'Neturno',\n",
              " 'Terra',\n",
              " 'Urano']"
            ]
          },
          "metadata": {},
          "execution_count": 21
        }
      ]
    },
    {
      "cell_type": "code",
      "source": [
        "planetas.sort() # Ordena por ordem alfabetica (String) ou numerica (int)\n",
        "planetas"
      ],
      "metadata": {
        "colab": {
          "base_uri": "https://localhost:8080/"
        },
        "id": "H2_DEL7kHCEY",
        "outputId": "4de623a0-dfb5-40ea-8870-17c8e1535a9d"
      },
      "execution_count": 18,
      "outputs": [
        {
          "output_type": "execute_result",
          "data": {
            "text/plain": [
              "['Jupiter',\n",
              " 'Jupiter',\n",
              " 'Marte',\n",
              " 'Mercurio',\n",
              " 'Nemesis',\n",
              " 'Neturno',\n",
              " 'Terra',\n",
              " 'Urano',\n",
              " 'Venus']"
            ]
          },
          "metadata": {},
          "execution_count": 18
        }
      ]
    },
    {
      "cell_type": "markdown",
      "source": [
        "### Operações de Manipulação:"
      ],
      "metadata": {
        "id": "z9BEHS1mH9DQ"
      }
    },
    {
      "cell_type": "code",
      "source": [
        "planetas.append('Nemesis') # Adiciona um novo elemento no final da lista. O tamanho da lista aumenta.\n",
        "planetas"
      ],
      "metadata": {
        "colab": {
          "base_uri": "https://localhost:8080/"
        },
        "id": "3UbNaGNrGn0A",
        "outputId": "5c2f14f2-4469-4628-d9b2-76d513479222"
      },
      "execution_count": 22,
      "outputs": [
        {
          "output_type": "execute_result",
          "data": {
            "text/plain": [
              "['Jupiter',\n",
              " 'Jupiter',\n",
              " 'Marte',\n",
              " 'Mercurio',\n",
              " 'Nemesis',\n",
              " 'Neturno',\n",
              " 'Terra',\n",
              " 'Urano',\n",
              " 'Nemesis']"
            ]
          },
          "metadata": {},
          "execution_count": 22
        }
      ]
    },
    {
      "cell_type": "code",
      "source": [
        "planetas.insert(4, 'Gliese-581') # Inseri em determinada posição um novo elemento;\n",
        "# planetas.insert(0, x) - Insere um elemento no topo da lista\n",
        "# planetas.insert(len(a), x) - Insere um elemento no fim da lista = append()\n",
        "planetas"
      ],
      "metadata": {
        "colab": {
          "base_uri": "https://localhost:8080/"
        },
        "id": "yZBjRDdKIobp",
        "outputId": "c83e332c-ecdd-4eac-c8f8-31b251ea227f"
      },
      "execution_count": 23,
      "outputs": [
        {
          "output_type": "execute_result",
          "data": {
            "text/plain": [
              "['Jupiter',\n",
              " 'Jupiter',\n",
              " 'Marte',\n",
              " 'Mercurio',\n",
              " 'Gliese-581',\n",
              " 'Nemesis',\n",
              " 'Neturno',\n",
              " 'Terra',\n",
              " 'Urano',\n",
              " 'Nemesis']"
            ]
          },
          "metadata": {},
          "execution_count": 23
        }
      ]
    },
    {
      "cell_type": "code",
      "source": [
        "planetas.remove('Jupiter') # Remove o primeiro item encontrado na lista cujo valor é igual a x.\n",
        "planetas"
      ],
      "metadata": {
        "colab": {
          "base_uri": "https://localhost:8080/"
        },
        "id": "Gn1v9i8eJW2g",
        "outputId": "754dbed7-9edf-41de-b545-dded8afd7589"
      },
      "execution_count": 24,
      "outputs": [
        {
          "output_type": "execute_result",
          "data": {
            "text/plain": [
              "['Jupiter',\n",
              " 'Marte',\n",
              " 'Mercurio',\n",
              " 'Gliese-581',\n",
              " 'Nemesis',\n",
              " 'Neturno',\n",
              " 'Terra',\n",
              " 'Urano',\n",
              " 'Nemesis']"
            ]
          },
          "metadata": {},
          "execution_count": 24
        }
      ]
    },
    {
      "cell_type": "code",
      "source": [
        "# Remove um item em uma dada posição na lista e o retorna. \n",
        "# Se nenhum índice é especificado, planetas.pop() remove e devolve o último item da lista.\n",
        "planetas.pop()\n",
        "planetas"
      ],
      "metadata": {
        "colab": {
          "base_uri": "https://localhost:8080/"
        },
        "id": "-gPOO-I0JRn4",
        "outputId": "9e41bab2-7597-4bdb-f38e-7cc02ddf7b49"
      },
      "execution_count": 26,
      "outputs": [
        {
          "output_type": "execute_result",
          "data": {
            "text/plain": [
              "['Jupiter',\n",
              " 'Marte',\n",
              " 'Mercurio',\n",
              " 'Gliese-581',\n",
              " 'Nemesis',\n",
              " 'Neturno',\n",
              " 'Terra',\n",
              " 'Urano']"
            ]
          },
          "metadata": {},
          "execution_count": 26
        }
      ]
    }
  ]
}