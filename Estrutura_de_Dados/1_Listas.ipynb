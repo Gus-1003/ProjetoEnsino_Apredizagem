{
  "nbformat": 4,
  "nbformat_minor": 0,
  "metadata": {
    "colab": {
      "name": "1_Listas.ipynb",
      "provenance": [],
      "authorship_tag": "ABX9TyORks1JCcXL5CnkMkOykS5h",
      "include_colab_link": true
    },
    "kernelspec": {
      "name": "python3",
      "display_name": "Python 3"
    },
    "language_info": {
      "name": "python"
    }
  },
  "cells": [
    {
      "cell_type": "markdown",
      "metadata": {
        "id": "view-in-github",
        "colab_type": "text"
      },
      "source": [
        "<a href=\"https://colab.research.google.com/github/Gus-1003/Python_Experimentos/blob/main/Estrutura_de_Dados/1_Listas.ipynb\" target=\"_parent\"><img src=\"https://colab.research.google.com/assets/colab-badge.svg\" alt=\"Open In Colab\"/></a>"
      ]
    },
    {
      "cell_type": "markdown",
      "source": [
        "# Listas em python"
      ],
      "metadata": {
        "id": "m27HSNVCEmL_"
      }
    },
    {
      "cell_type": "markdown",
      "source": [
        "## Exemplo: Lista de planetas no sistema Solar"
      ],
      "metadata": {
        "id": "uBbWUCYuEsav"
      }
    },
    {
      "cell_type": "markdown",
      "source": [
        "### Criação da lista:"
      ],
      "metadata": {
        "id": "6-9o-dPrHkhQ"
      }
    },
    {
      "cell_type": "code",
      "execution_count": 1,
      "metadata": {
        "colab": {
          "base_uri": "https://localhost:8080/"
        },
        "id": "dkPZ4acDC8-M",
        "outputId": "4a872e4d-ec76-4cc0-dec5-981fbd7dabc1"
      },
      "outputs": [
        {
          "output_type": "execute_result",
          "data": {
            "text/plain": [
              "['Mercurio',\n",
              " 'Venus',\n",
              " 'Terra',\n",
              " 'Marte',\n",
              " 'Jupiter',\n",
              " 'Urano',\n",
              " 'Neturno',\n",
              " 'Jupiter']"
            ]
          },
          "metadata": {},
          "execution_count": 1
        }
      ],
      "source": [
        "planetas = ['Mercurio', 'Venus', 'Terra', 'Marte', 'Jupiter', 'Urano', 'Neturno', 'Jupiter']\n",
        "planetas"
      ]
    },
    {
      "cell_type": "markdown",
      "source": [
        "### Operações de Buscas:"
      ],
      "metadata": {
        "id": "m5UL9hlwHszw"
      }
    },
    {
      "cell_type": "code",
      "source": [
        "planetas.count('Jupiter') # Devolve o número de vezes em que x aparece na lista."
      ],
      "metadata": {
        "colab": {
          "base_uri": "https://localhost:8080/"
        },
        "id": "_PJX-beNEc95",
        "outputId": "feb6e5ac-75e4-44b0-e9df-2228167331a4"
      },
      "execution_count": 2,
      "outputs": [
        {
          "output_type": "execute_result",
          "data": {
            "text/plain": [
              "2"
            ]
          },
          "metadata": {},
          "execution_count": 2
        }
      ]
    },
    {
      "cell_type": "code",
      "source": [
        "# index = Devolve o indice (posição) que esse elemento se encontra na lista\n",
        "# Lembrando = A lista começa do indice 0\n",
        "planetas.index('Marte')"
      ],
      "metadata": {
        "colab": {
          "base_uri": "https://localhost:8080/"
        },
        "id": "HG42Udm-FL1g",
        "outputId": "90fc9e10-9ad2-4359-ab7f-4b2c5892322e"
      },
      "execution_count": 3,
      "outputs": [
        {
          "output_type": "execute_result",
          "data": {
            "text/plain": [
              "3"
            ]
          },
          "metadata": {},
          "execution_count": 3
        }
      ]
    },
    {
      "cell_type": "code",
      "source": [
        "planetas.index('Neturno', 4)  # Comece a procurar a partir de um determinado Indice"
      ],
      "metadata": {
        "colab": {
          "base_uri": "https://localhost:8080/"
        },
        "id": "_Ev3bjfzGGOg",
        "outputId": "d6e6aaf9-67c4-415d-e96c-b67cca76cebd"
      },
      "execution_count": 4,
      "outputs": [
        {
          "output_type": "execute_result",
          "data": {
            "text/plain": [
              "6"
            ]
          },
          "metadata": {},
          "execution_count": 4
        }
      ]
    },
    {
      "cell_type": "markdown",
      "source": [
        "### Ordenação:"
      ],
      "metadata": {
        "id": "UtMkeuwLHxmI"
      }
    },
    {
      "cell_type": "code",
      "source": [
        "planetas.reverse() # Inverte a ordem dos elementos na lista\n",
        "planetas"
      ],
      "metadata": {
        "colab": {
          "base_uri": "https://localhost:8080/"
        },
        "id": "QsH4PaQeGeOS",
        "outputId": "ac9cf8d7-241e-4696-c48e-ace1bc6c7ddd"
      },
      "execution_count": 5,
      "outputs": [
        {
          "output_type": "execute_result",
          "data": {
            "text/plain": [
              "['Jupiter',\n",
              " 'Neturno',\n",
              " 'Urano',\n",
              " 'Jupiter',\n",
              " 'Marte',\n",
              " 'Terra',\n",
              " 'Venus',\n",
              " 'Mercurio']"
            ]
          },
          "metadata": {},
          "execution_count": 5
        }
      ]
    },
    {
      "cell_type": "code",
      "source": [
        "planetas.sort() # Ordena por ordem alfabetica (String) ou numerica (int)\n",
        "planetas"
      ],
      "metadata": {
        "colab": {
          "base_uri": "https://localhost:8080/"
        },
        "id": "H2_DEL7kHCEY",
        "outputId": "a30aad70-c246-4506-e80e-a4555d764518"
      },
      "execution_count": 6,
      "outputs": [
        {
          "output_type": "execute_result",
          "data": {
            "text/plain": [
              "['Jupiter',\n",
              " 'Jupiter',\n",
              " 'Marte',\n",
              " 'Mercurio',\n",
              " 'Neturno',\n",
              " 'Terra',\n",
              " 'Urano',\n",
              " 'Venus']"
            ]
          },
          "metadata": {},
          "execution_count": 6
        }
      ]
    },
    {
      "cell_type": "markdown",
      "source": [
        "### Operações de Manipulação:"
      ],
      "metadata": {
        "id": "z9BEHS1mH9DQ"
      }
    },
    {
      "cell_type": "code",
      "source": [
        "planetas.append('Nemesis') # Adiciona um novo elemento no final da lista. O tamanho da lista aumenta.\n",
        "planetas"
      ],
      "metadata": {
        "colab": {
          "base_uri": "https://localhost:8080/"
        },
        "id": "3UbNaGNrGn0A",
        "outputId": "64af8611-720f-469b-db2f-98c4d63ab3b4"
      },
      "execution_count": 7,
      "outputs": [
        {
          "output_type": "execute_result",
          "data": {
            "text/plain": [
              "['Jupiter',\n",
              " 'Jupiter',\n",
              " 'Marte',\n",
              " 'Mercurio',\n",
              " 'Neturno',\n",
              " 'Terra',\n",
              " 'Urano',\n",
              " 'Venus',\n",
              " 'Nemesis']"
            ]
          },
          "metadata": {},
          "execution_count": 7
        }
      ]
    },
    {
      "cell_type": "code",
      "source": [
        "planetas.insert(4, 'Gliese-581') # Inseri em determinada posição um novo elemento;\n",
        "# planetas.insert(0, x) - Insere um elemento no topo da lista\n",
        "# planetas.insert(len(a), x) - Insere um elemento no fim da lista = append()\n",
        "planetas"
      ],
      "metadata": {
        "colab": {
          "base_uri": "https://localhost:8080/"
        },
        "id": "yZBjRDdKIobp",
        "outputId": "5b7872d3-8932-49f8-fb22-4b68c0756ec3"
      },
      "execution_count": 8,
      "outputs": [
        {
          "output_type": "execute_result",
          "data": {
            "text/plain": [
              "['Jupiter',\n",
              " 'Jupiter',\n",
              " 'Marte',\n",
              " 'Mercurio',\n",
              " 'Gliese-581',\n",
              " 'Neturno',\n",
              " 'Terra',\n",
              " 'Urano',\n",
              " 'Venus',\n",
              " 'Nemesis']"
            ]
          },
          "metadata": {},
          "execution_count": 8
        }
      ]
    },
    {
      "cell_type": "code",
      "source": [
        "planetas.remove('Jupiter') # Remove o primeiro item encontrado na lista cujo valor é igual a x.\n",
        "planetas"
      ],
      "metadata": {
        "colab": {
          "base_uri": "https://localhost:8080/"
        },
        "id": "Gn1v9i8eJW2g",
        "outputId": "5fc682d5-7bc1-451a-daec-c0036d26c75e"
      },
      "execution_count": 9,
      "outputs": [
        {
          "output_type": "execute_result",
          "data": {
            "text/plain": [
              "['Jupiter',\n",
              " 'Marte',\n",
              " 'Mercurio',\n",
              " 'Gliese-581',\n",
              " 'Neturno',\n",
              " 'Terra',\n",
              " 'Urano',\n",
              " 'Venus',\n",
              " 'Nemesis']"
            ]
          },
          "metadata": {},
          "execution_count": 9
        }
      ]
    },
    {
      "cell_type": "code",
      "source": [
        "# Remove um item em uma dada posição na lista e o retorna. \n",
        "# Se nenhum índice é especificado, planetas.pop() remove e devolve o último item da lista.\n",
        "planetas.pop()"
      ],
      "metadata": {
        "colab": {
          "base_uri": "https://localhost:8080/",
          "height": 36
        },
        "id": "-gPOO-I0JRn4",
        "outputId": "b2b2248f-26ba-4167-8bb0-34ee54d85cb8"
      },
      "execution_count": 10,
      "outputs": [
        {
          "output_type": "execute_result",
          "data": {
            "application/vnd.google.colaboratory.intrinsic+json": {
              "type": "string"
            },
            "text/plain": [
              "'Nemesis'"
            ]
          },
          "metadata": {},
          "execution_count": 10
        }
      ]
    },
    {
      "cell_type": "code",
      "source": [
        "planetas"
      ],
      "metadata": {
        "colab": {
          "base_uri": "https://localhost:8080/"
        },
        "id": "LlA7jXIoML2y",
        "outputId": "2abf90b0-b231-476e-e3f9-58d0206e30fe"
      },
      "execution_count": 11,
      "outputs": [
        {
          "output_type": "execute_result",
          "data": {
            "text/plain": [
              "['Jupiter',\n",
              " 'Marte',\n",
              " 'Mercurio',\n",
              " 'Gliese-581',\n",
              " 'Neturno',\n",
              " 'Terra',\n",
              " 'Urano',\n",
              " 'Venus']"
            ]
          },
          "metadata": {},
          "execution_count": 11
        }
      ]
    }
  ]
}